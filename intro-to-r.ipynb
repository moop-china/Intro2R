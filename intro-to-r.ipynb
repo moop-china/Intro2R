{
 "cells": [
  {
   "cell_type": "markdown",
   "metadata": {},
   "source": [
    "# Introduction to R\n",
    "> R is an interpreted programming language that is majorly used in the scientific domain.\n",
    "> It is widely used among statisticians and data miners."
   ]
  },
  {
   "cell_type": "markdown",
   "metadata": {},
   "source": [
    "## Basics"
   ]
  },
  {
   "cell_type": "markdown",
   "metadata": {},
   "source": [
    "### Comments"
   ]
  },
  {
   "cell_type": "code",
   "execution_count": 1,
   "metadata": {
    "collapsed": true
   },
   "outputs": [],
   "source": [
    "# Namaskara"
   ]
  },
  {
   "cell_type": "markdown",
   "metadata": {},
   "source": [
    "### Integers"
   ]
  },
  {
   "cell_type": "code",
   "execution_count": 2,
   "metadata": {
    "collapsed": false
   },
   "outputs": [
    {
     "data": {
      "text/html": [
       "6"
      ],
      "text/latex": [
       "6"
      ],
      "text/markdown": [
       "6"
      ],
      "text/plain": [
       "[1] 6"
      ]
     },
     "execution_count": 2,
     "metadata": {},
     "output_type": "execute_result"
    }
   ],
   "source": [
    "4L + 2L"
   ]
  },
  {
   "cell_type": "markdown",
   "metadata": {},
   "source": [
    "### Strings"
   ]
  },
  {
   "cell_type": "code",
   "execution_count": 3,
   "metadata": {
    "collapsed": false
   },
   "outputs": [
    {
     "data": {
      "text/html": [
       "'Hello World'"
      ],
      "text/latex": [
       "'Hello World'"
      ],
      "text/markdown": [
       "'Hello World'"
      ],
      "text/plain": [
       "[1] \"Hello World\""
      ]
     },
     "execution_count": 3,
     "metadata": {},
     "output_type": "execute_result"
    }
   ],
   "source": [
    "\"Hello World\""
   ]
  },
  {
   "cell_type": "markdown",
   "metadata": {},
   "source": [
    "### Floats"
   ]
  },
  {
   "cell_type": "code",
   "execution_count": 4,
   "metadata": {
    "collapsed": false
   },
   "outputs": [
    {
     "data": {
      "text/html": [
       "4.2"
      ],
      "text/latex": [
       "4.2"
      ],
      "text/markdown": [
       "4.2"
      ],
      "text/plain": [
       "[1] 4.2"
      ]
     },
     "execution_count": 4,
     "metadata": {},
     "output_type": "execute_result"
    }
   ],
   "source": [
    "4.2"
   ]
  },
  {
   "cell_type": "markdown",
   "metadata": {},
   "source": [
    "### Logical"
   ]
  },
  {
   "cell_type": "code",
   "execution_count": 5,
   "metadata": {
    "collapsed": false
   },
   "outputs": [
    {
     "data": {
      "text/html": [
       "TRUE"
      ],
      "text/latex": [
       "TRUE"
      ],
      "text/markdown": [
       "TRUE"
      ],
      "text/plain": [
       "[1] TRUE"
      ]
     },
     "execution_count": 5,
     "metadata": {},
     "output_type": "execute_result"
    }
   ],
   "source": [
    "TRUE"
   ]
  },
  {
   "cell_type": "code",
   "execution_count": 6,
   "metadata": {
    "collapsed": false
   },
   "outputs": [
    {
     "data": {
      "text/html": [
       "FALSE"
      ],
      "text/latex": [
       "FALSE"
      ],
      "text/markdown": [
       "FALSE"
      ],
      "text/plain": [
       "[1] FALSE"
      ]
     },
     "execution_count": 6,
     "metadata": {},
     "output_type": "execute_result"
    }
   ],
   "source": [
    "FALSE"
   ]
  },
  {
   "cell_type": "markdown",
   "metadata": {},
   "source": [
    "---"
   ]
  },
  {
   "cell_type": "markdown",
   "metadata": {},
   "source": [
    "## Arithmatic Operations"
   ]
  },
  {
   "cell_type": "code",
   "execution_count": 7,
   "metadata": {
    "collapsed": false
   },
   "outputs": [
    {
     "data": {
      "text/html": [
       "42"
      ],
      "text/latex": [
       "42"
      ],
      "text/markdown": [
       "42"
      ],
      "text/plain": [
       "[1] 42"
      ]
     },
     "execution_count": 7,
     "metadata": {},
     "output_type": "execute_result"
    }
   ],
   "source": [
    "# Additions are done with `+`\n",
    "40 + 2"
   ]
  },
  {
   "cell_type": "code",
   "execution_count": 8,
   "metadata": {
    "collapsed": false
   },
   "outputs": [
    {
     "data": {
      "text/html": [
       "42"
      ],
      "text/latex": [
       "42"
      ],
      "text/markdown": [
       "42"
      ],
      "text/plain": [
       "[1] 42"
      ]
     },
     "execution_count": 8,
     "metadata": {},
     "output_type": "execute_result"
    }
   ],
   "source": [
    "# Subtractions with `-`\n",
    "44 - 2"
   ]
  },
  {
   "cell_type": "code",
   "execution_count": 9,
   "metadata": {
    "collapsed": false
   },
   "outputs": [
    {
     "data": {
      "text/html": [
       "42"
      ],
      "text/latex": [
       "42"
      ],
      "text/markdown": [
       "42"
      ],
      "text/plain": [
       "[1] 42"
      ]
     },
     "execution_count": 9,
     "metadata": {},
     "output_type": "execute_result"
    }
   ],
   "source": [
    "# Multiplication with `*`\n",
    "21 * 2 "
   ]
  },
  {
   "cell_type": "code",
   "execution_count": 10,
   "metadata": {
    "collapsed": false
   },
   "outputs": [
    {
     "data": {
      "text/html": [
       "42"
      ],
      "text/latex": [
       "42"
      ],
      "text/markdown": [
       "42"
      ],
      "text/plain": [
       "[1] 42"
      ]
     },
     "execution_count": 10,
     "metadata": {},
     "output_type": "execute_result"
    }
   ],
   "source": [
    "# Divisions with `/`\n",
    "84 / 2"
   ]
  },
  {
   "cell_type": "code",
   "execution_count": 11,
   "metadata": {
    "collapsed": false
   },
   "outputs": [
    {
     "data": {
      "text/html": [
       "5764801"
      ],
      "text/latex": [
       "5764801"
      ],
      "text/markdown": [
       "5764801"
      ],
      "text/plain": [
       "[1] 5764801"
      ]
     },
     "execution_count": 11,
     "metadata": {},
     "output_type": "execute_result"
    }
   ],
   "source": [
    "# Exponentiation with `^`\n",
    "7 ^ 8"
   ]
  },
  {
   "cell_type": "code",
   "execution_count": 13,
   "metadata": {
    "collapsed": false
   },
   "outputs": [
    {
     "data": {
      "text/html": [
       "1"
      ],
      "text/latex": [
       "1"
      ],
      "text/markdown": [
       "1"
      ],
      "text/plain": [
       "[1] 1"
      ]
     },
     "execution_count": 13,
     "metadata": {},
     "output_type": "execute_result"
    }
   ],
   "source": [
    "# Modulo with `%%`\n",
    "71 %% 5"
   ]
  },
  {
   "cell_type": "markdown",
   "metadata": {},
   "source": [
    "## Logical Operations"
   ]
  },
  {
   "cell_type": "code",
   "execution_count": 14,
   "metadata": {
    "collapsed": false
   },
   "outputs": [
    {
     "data": {
      "text/html": [
       "FALSE"
      ],
      "text/latex": [
       "FALSE"
      ],
      "text/markdown": [
       "FALSE"
      ],
      "text/plain": [
       "[1] FALSE"
      ]
     },
     "execution_count": 14,
     "metadata": {},
     "output_type": "execute_result"
    }
   ],
   "source": [
    "TRUE & FALSE"
   ]
  },
  {
   "cell_type": "code",
   "execution_count": 15,
   "metadata": {
    "collapsed": false
   },
   "outputs": [
    {
     "data": {
      "text/html": [
       "TRUE"
      ],
      "text/latex": [
       "TRUE"
      ],
      "text/markdown": [
       "TRUE"
      ],
      "text/plain": [
       "[1] TRUE"
      ]
     },
     "execution_count": 15,
     "metadata": {},
     "output_type": "execute_result"
    }
   ],
   "source": [
    "TRUE & TRUE"
   ]
  },
  {
   "cell_type": "code",
   "execution_count": 16,
   "metadata": {
    "collapsed": false
   },
   "outputs": [
    {
     "data": {
      "text/html": [
       "TRUE"
      ],
      "text/latex": [
       "TRUE"
      ],
      "text/markdown": [
       "TRUE"
      ],
      "text/plain": [
       "[1] TRUE"
      ]
     },
     "execution_count": 16,
     "metadata": {},
     "output_type": "execute_result"
    }
   ],
   "source": [
    "TRUE | FALSE"
   ]
  },
  {
   "cell_type": "code",
   "execution_count": 17,
   "metadata": {
    "collapsed": false
   },
   "outputs": [
    {
     "data": {
      "text/html": [
       "FALSE"
      ],
      "text/latex": [
       "FALSE"
      ],
      "text/markdown": [
       "FALSE"
      ],
      "text/plain": [
       "[1] FALSE"
      ]
     },
     "execution_count": 17,
     "metadata": {},
     "output_type": "execute_result"
    }
   ],
   "source": [
    "FALSE | FALSE"
   ]
  },
  {
   "cell_type": "markdown",
   "metadata": {},
   "source": [
    "---"
   ]
  },
  {
   "cell_type": "markdown",
   "metadata": {},
   "source": [
    "## Variables & Assignment\n",
    "Use the `<-` operator to assign values to variables."
   ]
  },
  {
   "cell_type": "code",
   "execution_count": 18,
   "metadata": {
    "collapsed": true
   },
   "outputs": [],
   "source": [
    "answer_to_life <- 42"
   ]
  },
  {
   "cell_type": "code",
   "execution_count": 19,
   "metadata": {
    "collapsed": false
   },
   "outputs": [
    {
     "data": {
      "text/html": [
       "42"
      ],
      "text/latex": [
       "42"
      ],
      "text/markdown": [
       "42"
      ],
      "text/plain": [
       "[1] 42"
      ]
     },
     "execution_count": 19,
     "metadata": {},
     "output_type": "execute_result"
    }
   ],
   "source": [
    "answer_to_life"
   ]
  },
  {
   "cell_type": "markdown",
   "metadata": {},
   "source": [
    "All arithmatic operations are supported on variables"
   ]
  },
  {
   "cell_type": "code",
   "execution_count": 20,
   "metadata": {
    "collapsed": false
   },
   "outputs": [
    {
     "data": {
      "text/html": [
       "42"
      ],
      "text/latex": [
       "42"
      ],
      "text/markdown": [
       "42"
      ],
      "text/plain": [
       "[1] 42"
      ]
     },
     "execution_count": 20,
     "metadata": {},
     "output_type": "execute_result"
    }
   ],
   "source": [
    "foo <- 21\n",
    "bar <- 21\n",
    "\n",
    "answer_to_life <- foo + bar\n",
    "answer_to_life"
   ]
  },
  {
   "cell_type": "markdown",
   "metadata": {},
   "source": [
    "---"
   ]
  },
  {
   "cell_type": "markdown",
   "metadata": {},
   "source": [
    "## Types\n",
    "The `class` function can be used to identify the underlying type of a variable or literal"
   ]
  },
  {
   "cell_type": "code",
   "execution_count": 21,
   "metadata": {
    "collapsed": false
   },
   "outputs": [
    {
     "data": {
      "text/html": [
       "'integer'"
      ],
      "text/latex": [
       "'integer'"
      ],
      "text/markdown": [
       "'integer'"
      ],
      "text/plain": [
       "[1] \"integer\""
      ]
     },
     "execution_count": 21,
     "metadata": {},
     "output_type": "execute_result"
    },
    {
     "data": {
      "text/html": [
       "'numeric'"
      ],
      "text/latex": [
       "'numeric'"
      ],
      "text/markdown": [
       "'numeric'"
      ],
      "text/plain": [
       "[1] \"numeric\""
      ]
     },
     "execution_count": 21,
     "metadata": {},
     "output_type": "execute_result"
    },
    {
     "data": {
      "text/html": [
       "'character'"
      ],
      "text/latex": [
       "'character'"
      ],
      "text/markdown": [
       "'character'"
      ],
      "text/plain": [
       "[1] \"character\""
      ]
     },
     "execution_count": 21,
     "metadata": {},
     "output_type": "execute_result"
    }
   ],
   "source": [
    "class(42L)\n",
    "class(42.0)\n",
    "class(\"Fourty Two\")"
   ]
  },
  {
   "cell_type": "markdown",
   "metadata": {},
   "source": [
    "---\n",
    "\n",
    "### [ Exercise ]\n",
    "\n",
    "What is the type of `TRUE` / `FALSE` ?"
   ]
  },
  {
   "cell_type": "code",
   "execution_count": 22,
   "metadata": {
    "collapsed": false
   },
   "outputs": [
    {
     "data": {
      "text/html": [
       "'logical'"
      ],
      "text/latex": [
       "'logical'"
      ],
      "text/markdown": [
       "'logical'"
      ],
      "text/plain": [
       "[1] \"logical\""
      ]
     },
     "execution_count": 22,
     "metadata": {},
     "output_type": "execute_result"
    }
   ],
   "source": [
    "# Answer here\n",
    "class(TRUE)"
   ]
  },
  {
   "cell_type": "markdown",
   "metadata": {},
   "source": [
    "---"
   ]
  },
  {
   "cell_type": "markdown",
   "metadata": {},
   "source": [
    "## Working with the environment\n",
    "\n",
    "> It is important to understand how to bring in things from outside the environment - Files, URLs, filesystem navigation, etc"
   ]
  },
  {
   "cell_type": "markdown",
   "metadata": {},
   "source": [
    "### Working Directory\n",
    "The directory where you're currently working in is called the _Working Directory_"
   ]
  },
  {
   "cell_type": "code",
   "execution_count": 23,
   "metadata": {
    "collapsed": false
   },
   "outputs": [
    {
     "data": {
      "text/html": [
       "'/Users/amitkaps/Dropbox/github/intro-R-data-science/intro'"
      ],
      "text/latex": [
       "'/Users/amitkaps/Dropbox/github/intro-R-data-science/intro'"
      ],
      "text/markdown": [
       "'/Users/amitkaps/Dropbox/github/intro-R-data-science/intro'"
      ],
      "text/plain": [
       "[1] \"/Users/amitkaps/Dropbox/github/intro-R-data-science/intro\""
      ]
     },
     "execution_count": 23,
     "metadata": {},
     "output_type": "execute_result"
    }
   ],
   "source": [
    "# Lets start off by checking where we are\n",
    "getwd()"
   ]
  },
  {
   "cell_type": "code",
   "execution_count": 24,
   "metadata": {
    "collapsed": false
   },
   "outputs": [],
   "source": [
    "# Lets then move to the _cars_ directory within this directory\n",
    "\n",
    "# Paths can be relative\n",
    "setwd(\"../cars\")"
   ]
  },
  {
   "cell_type": "code",
   "execution_count": 25,
   "metadata": {
    "collapsed": false
   },
   "outputs": [
    {
     "data": {
      "text/html": [
       "'/Users/amitkaps/Dropbox/github/intro-R-data-science/cars'"
      ],
      "text/latex": [
       "'/Users/amitkaps/Dropbox/github/intro-R-data-science/cars'"
      ],
      "text/markdown": [
       "'/Users/amitkaps/Dropbox/github/intro-R-data-science/cars'"
      ],
      "text/plain": [
       "[1] \"/Users/amitkaps/Dropbox/github/intro-R-data-science/cars\""
      ]
     },
     "execution_count": 25,
     "metadata": {},
     "output_type": "execute_result"
    }
   ],
   "source": [
    "getwd()"
   ]
  },
  {
   "cell_type": "code",
   "execution_count": 26,
   "metadata": {
    "collapsed": true
   },
   "outputs": [],
   "source": [
    "# Or paths can be absolute\n",
    "setwd(\"/Users/amitkaps/Dropbox/github/intro-R-data-science/intro\")"
   ]
  },
  {
   "cell_type": "code",
   "execution_count": 27,
   "metadata": {
    "collapsed": false
   },
   "outputs": [
    {
     "data": {
      "text/html": [
       "'/Users/amitkaps/Dropbox/github/intro-R-data-science/intro'"
      ],
      "text/latex": [
       "'/Users/amitkaps/Dropbox/github/intro-R-data-science/intro'"
      ],
      "text/markdown": [
       "'/Users/amitkaps/Dropbox/github/intro-R-data-science/intro'"
      ],
      "text/plain": [
       "[1] \"/Users/amitkaps/Dropbox/github/intro-R-data-science/intro\""
      ]
     },
     "execution_count": 27,
     "metadata": {},
     "output_type": "execute_result"
    }
   ],
   "source": [
    "getwd()"
   ]
  },
  {
   "cell_type": "code",
   "execution_count": 28,
   "metadata": {
    "collapsed": false
   },
   "outputs": [
    {
     "ename": "ERROR",
     "evalue": "Error in setwd(\"C:/Users/Shrayasr/personal/code/intro-R-data-science/introoooooooo\"): cannot change working directory\n",
     "output_type": "error",
     "traceback": [
      "Error in setwd(\"C:/Users/Shrayasr/personal/code/intro-R-data-science/introoooooooo\"): cannot change working directory\n"
     ]
    }
   ],
   "source": [
    "# Let us try an invalid path\n",
    "setwd(\"C:/Users/Shrayasr/personal/code/intro-R-data-science/introoooooooo\")"
   ]
  },
  {
   "cell_type": "code",
   "execution_count": 29,
   "metadata": {
    "collapsed": false
   },
   "outputs": [
    {
     "data": {
      "text/html": [
       "'/Users/amitkaps/Dropbox/github/intro-R-data-science/intro'"
      ],
      "text/latex": [
       "'/Users/amitkaps/Dropbox/github/intro-R-data-science/intro'"
      ],
      "text/markdown": [
       "'/Users/amitkaps/Dropbox/github/intro-R-data-science/intro'"
      ],
      "text/plain": [
       "[1] \"/Users/amitkaps/Dropbox/github/intro-R-data-science/intro\""
      ]
     },
     "execution_count": 29,
     "metadata": {},
     "output_type": "execute_result"
    }
   ],
   "source": [
    "getwd()"
   ]
  },
  {
   "cell_type": "markdown",
   "metadata": {},
   "source": [
    "### Reading stuff"
   ]
  },
  {
   "cell_type": "markdown",
   "metadata": {},
   "source": [
    "R is all about getting work done. It gives you nifty methods to quickly go out and pick data up so that you're up and running _within_ R. "
   ]
  },
  {
   "cell_type": "code",
   "execution_count": 30,
   "metadata": {
    "collapsed": false
   },
   "outputs": [
    {
     "data": {
      "text/html": [
       "<table>\n",
       "<thead><tr><th></th><th scope=col>name</th><th scope=col>model</th><th scope=col>url</th><th scope=col>price</th><th scope=col>type</th><th scope=col>ABS</th><th scope=col>Acceleration..0.100.kmph.</th><th scope=col>Air.Conditioner</th><th scope=col>Audio.Controls.on.Streeing.Wheel</th><th scope=col>Audio.System..with.remote.</th><th scope=col>ellip.h</th><th scope=col>Speakers</th><th scope=col>Tilt.Function</th><th scope=col>Top.Speed..kmph.</th><th scope=col>Traction.Control</th><th scope=col>Transmission.Type</th><th scope=col>Tubeless.Tyres</th><th scope=col>Turning.Circle.Radius..metres.</th><th scope=col>USB...Auxiliary.Input</th><th scope=col>Wheelbase..mm.</th><th scope=col>brand</th></tr></thead>\n",
       "<tbody>\n",
       "\t<tr><th scope=row>1</th><td>Ashok Leyland Stile</td><td>Ashok Leyland Stile LE 8-STR (Diesel)</td><td>http://carzoom.in/car-specification/ashok-leyland-stile-le-8-str-diesel/</td><td>749990</td><td>MPV</td><td> No</td><td>18.7</td><td> Manual</td><td> No</td><td> No</td><td><e2><8b><af></td><td> No</td><td> Yes</td><td>140</td><td> No</td><td> 5 Speed Manual</td><td> Yes</td><td>5.2</td><td> No</td><td>2725</td><td>Ashok</td></tr>\n",
       "\t<tr><th scope=row>2</th><td>Ashok Leyland Stile</td><td>Ashok Leyland Stile LS 8-STR (Diesel)</td><td>http://carzoom.in/car-specification/ashok-leyland-stile-ls-8-str-diesel/</td><td>799990</td><td>MPV</td><td> No</td><td>18.7</td><td> Manual</td><td> No</td><td> No</td><td><e2><8b><af></td><td> No</td><td> Yes</td><td>140</td><td> No</td><td> 5 Speed Manual</td><td> Yes</td><td>5.2</td><td> No</td><td>2725</td><td>Ashok</td></tr>\n",
       "\t<tr><th scope=row>3</th><td>Ashok Leyland Stile</td><td>Ashok Leyland Stile LX 8-STR (Diesel)</td><td>http://carzoom.in/car-specification/ashok-leyland-stile-lx-8-str-diesel/</td><td>829990</td><td>MPV</td><td> No</td><td>18.7</td><td> Manual</td><td> No</td><td> No</td><td><e2><8b><af></td><td> No</td><td> Yes</td><td>140</td><td> No</td><td> 5 Speed Manual</td><td> Yes</td><td>5.2</td><td> No</td><td>2725</td><td>Ashok</td></tr>\n",
       "\t<tr><th scope=row>4</th><td>Ashok Leyland Stile</td><td>Ashok Leyland Stile LS 7-STR (Diesel)</td><td>http://carzoom.in/car-specification/ashok-leyland-stile-ls-7-str-diesel/</td><td>849990</td><td>MPV</td><td> No</td><td>18.7</td><td> Manual</td><td> No</td><td> No</td><td><e2><8b><af></td><td> No</td><td> Yes</td><td>140</td><td> No</td><td> 5 Speed Manual</td><td> Yes</td><td>5.2</td><td> No</td><td>2725</td><td>Ashok</td></tr>\n",
       "</tbody>\n",
       "</table>\n"
      ],
      "text/latex": [
       "\\begin{tabular}{r|llllllllllllllllllllllllllllllllllllllllllllllllllllllllllllll}\n",
       "  & name & model & url & price & type & ABS & Acceleration..0.100.kmph. & Air.Conditioner & Audio.Controls.on.Streeing.Wheel & Audio.System..with.remote. & ellip.h & Speakers & Tilt.Function & Top.Speed..kmph. & Traction.Control & Transmission.Type & Tubeless.Tyres & Turning.Circle.Radius..metres. & USB...Auxiliary.Input & Wheelbase..mm. & brand\\\\\n",
       "\\hline\n",
       "\t1 & Ashok Leyland Stile & Ashok Leyland Stile LE 8-STR (Diesel) & http://carzoom.in/car-specification/ashok-leyland-stile-le-8-str-diesel/ & 749990 & MPV &  No & 18.7 &  Manual &  No &  No & <e2><8b><af> &  No &  Yes & 140 &  No &  5 Speed Manual &  Yes & 5.2 &  No & 2725 & Ashok\\\\\n",
       "\t2 & Ashok Leyland Stile & Ashok Leyland Stile LS 8-STR (Diesel) & http://carzoom.in/car-specification/ashok-leyland-stile-ls-8-str-diesel/ & 799990 & MPV &  No & 18.7 &  Manual &  No &  No & <e2><8b><af> &  No &  Yes & 140 &  No &  5 Speed Manual &  Yes & 5.2 &  No & 2725 & Ashok\\\\\n",
       "\t3 & Ashok Leyland Stile & Ashok Leyland Stile LX 8-STR (Diesel) & http://carzoom.in/car-specification/ashok-leyland-stile-lx-8-str-diesel/ & 829990 & MPV &  No & 18.7 &  Manual &  No &  No & <e2><8b><af> &  No &  Yes & 140 &  No &  5 Speed Manual &  Yes & 5.2 &  No & 2725 & Ashok\\\\\n",
       "\t4 & Ashok Leyland Stile & Ashok Leyland Stile LS 7-STR (Diesel) & http://carzoom.in/car-specification/ashok-leyland-stile-ls-7-str-diesel/ & 849990 & MPV &  No & 18.7 &  Manual &  No &  No & <e2><8b><af> &  No &  Yes & 140 &  No &  5 Speed Manual &  Yes & 5.2 &  No & 2725 & Ashok\\\\\n",
       "\\end{tabular}\n"
      ],
      "text/plain": [
       "                 name                                 model\n",
       "1 Ashok Leyland Stile Ashok Leyland Stile LE 8-STR (Diesel)\n",
       "2 Ashok Leyland Stile Ashok Leyland Stile LS 8-STR (Diesel)\n",
       "3 Ashok Leyland Stile Ashok Leyland Stile LX 8-STR (Diesel)\n",
       "4 Ashok Leyland Stile Ashok Leyland Stile LS 7-STR (Diesel)\n",
       "                                                                       url\n",
       "1 http://carzoom.in/car-specification/ashok-leyland-stile-le-8-str-diesel/\n",
       "2 http://carzoom.in/car-specification/ashok-leyland-stile-ls-8-str-diesel/\n",
       "3 http://carzoom.in/car-specification/ashok-leyland-stile-lx-8-str-diesel/\n",
       "4 http://carzoom.in/car-specification/ashok-leyland-stile-ls-7-str-diesel/\n",
       "   price type ABS Acceleration..0.100.kmph. Air.Conditioner\n",
       "1 749990  MPV  No                      18.7          Manual\n",
       "2 799990  MPV  No                      18.7          Manual\n",
       "3 829990  MPV  No                      18.7          Manual\n",
       "4 849990  MPV  No                      18.7          Manual\n",
       "  Audio.Controls.on.Streeing.Wheel Audio.System..with.remote.\n",
       "1                               No                         No\n",
       "2                               No                         No\n",
       "3                               No                         No\n",
       "4                               No                         No\n",
       "  Bluetooth.Connectivity Body.Coloured.Bumpers Boot.Space..litres. Brakes.Front\n",
       "1                     No                   Yes                 500         Disc\n",
       "2                     No                   Yes                 500         Disc\n",
       "3                     No                   Yes                 500         Disc\n",
       "4                     No                   Yes                 500         Disc\n",
       "  Brakes.Rear CD.Player Central.Locking Clean.Air.Filter Cruise.Control\n",
       "1        Drum        No              No              Yes             No\n",
       "2        Drum        No             Yes               No             No\n",
       "3        Drum        No             Yes              Yes             No\n",
       "4        Drum        No             Yes              Yes             No\n",
       "  Door.Ajar.Warning Driver.Seatbelt.Warning Dual.SRS.Airbags..D.P. EBD\n",
       "1                No                      No                     No  No\n",
       "2                No                      No                     No  No\n",
       "3                No                      No                     No  No\n",
       "4                No                      No                     No  No\n",
       "  Engine.Size..cc.                                   Engine.Type Front.Track\n",
       "1             1461  Turbo-intercooled, Common Rail Diesel Engine          NA\n",
       "2             1461  Turbo-intercooled, Common Rail Diesel Engine          NA\n",
       "3             1461  Turbo-intercooled, Common Rail Diesel Engine          NA\n",
       "4             1461  Turbo-intercooled, Common Rail Diesel Engine          NA\n",
       "  Front.Tyres Fuel.Supply.System Fuel.Tank.Capacity..litres. Fuel.Type\n",
       "1     165 R14               CRDi                          50    Diesel\n",
       "2     165 R14               CRDi                          50    Diesel\n",
       "3     165 R14               CRDi                          50    Diesel\n",
       "4     165 R14               CRDi                          50    Diesel\n",
       "  Full.Wheel.Caps Gross.Weight..kg. Ground.Clearance..mm. Heater Immobiliser\n",
       "1             Yes              2000                   180    Yes         Yes\n",
       "2              No              2000                   180    Yes         Yes\n",
       "3              No              2000                   180    Yes         Yes\n",
       "4              No              2000                   180    Yes         Yes\n",
       "  Kerb.Weight..kg. Keyless.Entry Max.Power..bhp...rpm. Max.Torque..Nm...rpm.\n",
       "1             1426            No             75 @ 3300       185 @ 1750-2750\n",
       "2             1426            No             75 @ 3300       185 @ 1750-2750\n",
       "3             1426            No             75 @ 3300       185 @ 1750-2750\n",
       "4             1426            No             75 @ 3300       185 @ 1750-2750\n",
       "  Mileage.in.City..kmpl. Mileage.on.Highway..kmpl. No..of.Cylinders\n",
       "1                   16.2                      20.7                4\n",
       "2                   16.2                      20.7                4\n",
       "3                   16.2                      20.7                4\n",
       "4                   16.2                      20.7                4\n",
       "  Overall.Length.mm..x.Width.mm..x.Height.mm. Panoramic.Sunroof\n",
       "1                          4400 x 1700 x 1860                No\n",
       "2                          4400 x 1700 x 1860                No\n",
       "3                          4400 x 1700 x 1860                No\n",
       "4                          4400 x 1700 x 1860                No\n",
       "  Passenger.Airbags Power.Steering Power.Windows..Front. Power.Windows..Rear.\n",
       "1                No            Yes                    No                   No\n",
       "2                No            Yes                   Yes                   No\n",
       "3                No            Yes                   Yes                   No\n",
       "4                No            Yes                   Yes                   No\n",
       "  Rain.Sensing.Wipers Rear.Track Rear.Tyres Seat.Capacity Speakers\n",
       "1                  No         NA    165 R14             8       No\n",
       "2                  No         NA    165 R14             8       No\n",
       "3                  No         NA    165 R14             8       No\n",
       "4                  No         NA    165 R14             7       No\n",
       "  Tilt.Function Top.Speed..kmph. Traction.Control Transmission.Type\n",
       "1           Yes              140               No    5 Speed Manual\n",
       "2           Yes              140               No    5 Speed Manual\n",
       "3           Yes              140               No    5 Speed Manual\n",
       "4           Yes              140               No    5 Speed Manual\n",
       "  Tubeless.Tyres Turning.Circle.Radius..metres. USB...Auxiliary.Input\n",
       "1            Yes                            5.2                    No\n",
       "2            Yes                            5.2                    No\n",
       "3            Yes                            5.2                    No\n",
       "4            Yes                            5.2                    No\n",
       "  Wheelbase..mm. brand\n",
       "1           2725 Ashok\n",
       "2           2725 Ashok\n",
       "3           2725 Ashok\n",
       "4           2725 Ashok"
      ]
     },
     "execution_count": 30,
     "metadata": {},
     "output_type": "execute_result"
    }
   ],
   "source": [
    "# Lets read in a bunch of cars\n",
    "read.csv(\"small_cars.csv\")"
   ]
  },
  {
   "cell_type": "markdown",
   "metadata": {},
   "source": [
    "As simple as that."
   ]
  },
  {
   "cell_type": "markdown",
   "metadata": {},
   "source": [
    "---\n",
    "\n",
    "### [ Exercise ] \n",
    "\n",
    "- Put a CSV file (anything, really) in some location on your computer (**except the intro-R-data-science directory**)\n",
    "- Use `getwd` and `setwd` to navigate to that location\n",
    "- Read the csv using `read.csv`"
   ]
  },
  {
   "cell_type": "code",
   "execution_count": 32,
   "metadata": {
    "collapsed": false
   },
   "outputs": [
    {
     "data": {
      "text/html": [
       "<table>\n",
       "<thead><tr><th></th><th scope=col>name</th><th scope=col>model</th><th scope=col>url</th><th scope=col>price</th><th scope=col>type</th><th scope=col>ABS</th><th scope=col>Acceleration..0.100.kmph.</th><th scope=col>Air.Conditioner</th><th scope=col>Audio.Controls.on.Streeing.Wheel</th><th scope=col>Audio.System..with.remote.</th><th scope=col>ellip.h</th><th scope=col>Speakers</th><th scope=col>Tilt.Function</th><th scope=col>Top.Speed..kmph.</th><th scope=col>Traction.Control</th><th scope=col>Transmission.Type</th><th scope=col>Tubeless.Tyres</th><th scope=col>Turning.Circle.Radius..metres.</th><th scope=col>USB...Auxiliary.Input</th><th scope=col>Wheelbase..mm.</th><th scope=col>brand</th></tr></thead>\n",
       "<tbody>\n",
       "\t<tr><th scope=row>1</th><td>Ashok Leyland Stile</td><td>Ashok Leyland Stile LE 8-STR (Diesel)</td><td>http://carzoom.in/car-specification/ashok-leyland-stile-le-8-str-diesel/</td><td>749990</td><td>MPV</td><td> No</td><td>18.7</td><td> Manual</td><td> No</td><td> No</td><td><e2><8b><af></td><td> No</td><td> Yes</td><td>140</td><td> No</td><td> 5 Speed Manual</td><td> Yes</td><td>5.2</td><td> No</td><td>2725</td><td>Ashok</td></tr>\n",
       "\t<tr><th scope=row>2</th><td>Ashok Leyland Stile</td><td>Ashok Leyland Stile LS 8-STR (Diesel)</td><td>http://carzoom.in/car-specification/ashok-leyland-stile-ls-8-str-diesel/</td><td>799990</td><td>MPV</td><td> No</td><td>18.7</td><td> Manual</td><td> No</td><td> No</td><td><e2><8b><af></td><td> No</td><td> Yes</td><td>140</td><td> No</td><td> 5 Speed Manual</td><td> Yes</td><td>5.2</td><td> No</td><td>2725</td><td>Ashok</td></tr>\n",
       "\t<tr><th scope=row>3</th><td>Ashok Leyland Stile</td><td>Ashok Leyland Stile LX 8-STR (Diesel)</td><td>http://carzoom.in/car-specification/ashok-leyland-stile-lx-8-str-diesel/</td><td>829990</td><td>MPV</td><td> No</td><td>18.7</td><td> Manual</td><td> No</td><td> No</td><td><e2><8b><af></td><td> No</td><td> Yes</td><td>140</td><td> No</td><td> 5 Speed Manual</td><td> Yes</td><td>5.2</td><td> No</td><td>2725</td><td>Ashok</td></tr>\n",
       "\t<tr><th scope=row>4</th><td>Ashok Leyland Stile</td><td>Ashok Leyland Stile LS 7-STR (Diesel)</td><td>http://carzoom.in/car-specification/ashok-leyland-stile-ls-7-str-diesel/</td><td>849990</td><td>MPV</td><td> No</td><td>18.7</td><td> Manual</td><td> No</td><td> No</td><td><e2><8b><af></td><td> No</td><td> Yes</td><td>140</td><td> No</td><td> 5 Speed Manual</td><td> Yes</td><td>5.2</td><td> No</td><td>2725</td><td>Ashok</td></tr>\n",
       "</tbody>\n",
       "</table>\n"
      ],
      "text/latex": [
       "\\begin{tabular}{r|llllllllllllllllllllllllllllllllllllllllllllllllllllllllllllll}\n",
       "  & name & model & url & price & type & ABS & Acceleration..0.100.kmph. & Air.Conditioner & Audio.Controls.on.Streeing.Wheel & Audio.System..with.remote. & ellip.h & Speakers & Tilt.Function & Top.Speed..kmph. & Traction.Control & Transmission.Type & Tubeless.Tyres & Turning.Circle.Radius..metres. & USB...Auxiliary.Input & Wheelbase..mm. & brand\\\\\n",
       "\\hline\n",
       "\t1 & Ashok Leyland Stile & Ashok Leyland Stile LE 8-STR (Diesel) & http://carzoom.in/car-specification/ashok-leyland-stile-le-8-str-diesel/ & 749990 & MPV &  No & 18.7 &  Manual &  No &  No & <e2><8b><af> &  No &  Yes & 140 &  No &  5 Speed Manual &  Yes & 5.2 &  No & 2725 & Ashok\\\\\n",
       "\t2 & Ashok Leyland Stile & Ashok Leyland Stile LS 8-STR (Diesel) & http://carzoom.in/car-specification/ashok-leyland-stile-ls-8-str-diesel/ & 799990 & MPV &  No & 18.7 &  Manual &  No &  No & <e2><8b><af> &  No &  Yes & 140 &  No &  5 Speed Manual &  Yes & 5.2 &  No & 2725 & Ashok\\\\\n",
       "\t3 & Ashok Leyland Stile & Ashok Leyland Stile LX 8-STR (Diesel) & http://carzoom.in/car-specification/ashok-leyland-stile-lx-8-str-diesel/ & 829990 & MPV &  No & 18.7 &  Manual &  No &  No & <e2><8b><af> &  No &  Yes & 140 &  No &  5 Speed Manual &  Yes & 5.2 &  No & 2725 & Ashok\\\\\n",
       "\t4 & Ashok Leyland Stile & Ashok Leyland Stile LS 7-STR (Diesel) & http://carzoom.in/car-specification/ashok-leyland-stile-ls-7-str-diesel/ & 849990 & MPV &  No & 18.7 &  Manual &  No &  No & <e2><8b><af> &  No &  Yes & 140 &  No &  5 Speed Manual &  Yes & 5.2 &  No & 2725 & Ashok\\\\\n",
       "\\end{tabular}\n"
      ],
      "text/plain": [
       "                 name                                 model\n",
       "1 Ashok Leyland Stile Ashok Leyland Stile LE 8-STR (Diesel)\n",
       "2 Ashok Leyland Stile Ashok Leyland Stile LS 8-STR (Diesel)\n",
       "3 Ashok Leyland Stile Ashok Leyland Stile LX 8-STR (Diesel)\n",
       "4 Ashok Leyland Stile Ashok Leyland Stile LS 7-STR (Diesel)\n",
       "                                                                       url\n",
       "1 http://carzoom.in/car-specification/ashok-leyland-stile-le-8-str-diesel/\n",
       "2 http://carzoom.in/car-specification/ashok-leyland-stile-ls-8-str-diesel/\n",
       "3 http://carzoom.in/car-specification/ashok-leyland-stile-lx-8-str-diesel/\n",
       "4 http://carzoom.in/car-specification/ashok-leyland-stile-ls-7-str-diesel/\n",
       "   price type ABS Acceleration..0.100.kmph. Air.Conditioner\n",
       "1 749990  MPV  No                      18.7          Manual\n",
       "2 799990  MPV  No                      18.7          Manual\n",
       "3 829990  MPV  No                      18.7          Manual\n",
       "4 849990  MPV  No                      18.7          Manual\n",
       "  Audio.Controls.on.Streeing.Wheel Audio.System..with.remote.\n",
       "1                               No                         No\n",
       "2                               No                         No\n",
       "3                               No                         No\n",
       "4                               No                         No\n",
       "  Bluetooth.Connectivity Body.Coloured.Bumpers Boot.Space..litres. Brakes.Front\n",
       "1                     No                   Yes                 500         Disc\n",
       "2                     No                   Yes                 500         Disc\n",
       "3                     No                   Yes                 500         Disc\n",
       "4                     No                   Yes                 500         Disc\n",
       "  Brakes.Rear CD.Player Central.Locking Clean.Air.Filter Cruise.Control\n",
       "1        Drum        No              No              Yes             No\n",
       "2        Drum        No             Yes               No             No\n",
       "3        Drum        No             Yes              Yes             No\n",
       "4        Drum        No             Yes              Yes             No\n",
       "  Door.Ajar.Warning Driver.Seatbelt.Warning Dual.SRS.Airbags..D.P. EBD\n",
       "1                No                      No                     No  No\n",
       "2                No                      No                     No  No\n",
       "3                No                      No                     No  No\n",
       "4                No                      No                     No  No\n",
       "  Engine.Size..cc.                                   Engine.Type Front.Track\n",
       "1             1461  Turbo-intercooled, Common Rail Diesel Engine          NA\n",
       "2             1461  Turbo-intercooled, Common Rail Diesel Engine          NA\n",
       "3             1461  Turbo-intercooled, Common Rail Diesel Engine          NA\n",
       "4             1461  Turbo-intercooled, Common Rail Diesel Engine          NA\n",
       "  Front.Tyres Fuel.Supply.System Fuel.Tank.Capacity..litres. Fuel.Type\n",
       "1     165 R14               CRDi                          50    Diesel\n",
       "2     165 R14               CRDi                          50    Diesel\n",
       "3     165 R14               CRDi                          50    Diesel\n",
       "4     165 R14               CRDi                          50    Diesel\n",
       "  Full.Wheel.Caps Gross.Weight..kg. Ground.Clearance..mm. Heater Immobiliser\n",
       "1             Yes              2000                   180    Yes         Yes\n",
       "2              No              2000                   180    Yes         Yes\n",
       "3              No              2000                   180    Yes         Yes\n",
       "4              No              2000                   180    Yes         Yes\n",
       "  Kerb.Weight..kg. Keyless.Entry Max.Power..bhp...rpm. Max.Torque..Nm...rpm.\n",
       "1             1426            No             75 @ 3300       185 @ 1750-2750\n",
       "2             1426            No             75 @ 3300       185 @ 1750-2750\n",
       "3             1426            No             75 @ 3300       185 @ 1750-2750\n",
       "4             1426            No             75 @ 3300       185 @ 1750-2750\n",
       "  Mileage.in.City..kmpl. Mileage.on.Highway..kmpl. No..of.Cylinders\n",
       "1                   16.2                      20.7                4\n",
       "2                   16.2                      20.7                4\n",
       "3                   16.2                      20.7                4\n",
       "4                   16.2                      20.7                4\n",
       "  Overall.Length.mm..x.Width.mm..x.Height.mm. Panoramic.Sunroof\n",
       "1                          4400 x 1700 x 1860                No\n",
       "2                          4400 x 1700 x 1860                No\n",
       "3                          4400 x 1700 x 1860                No\n",
       "4                          4400 x 1700 x 1860                No\n",
       "  Passenger.Airbags Power.Steering Power.Windows..Front. Power.Windows..Rear.\n",
       "1                No            Yes                    No                   No\n",
       "2                No            Yes                   Yes                   No\n",
       "3                No            Yes                   Yes                   No\n",
       "4                No            Yes                   Yes                   No\n",
       "  Rain.Sensing.Wipers Rear.Track Rear.Tyres Seat.Capacity Speakers\n",
       "1                  No         NA    165 R14             8       No\n",
       "2                  No         NA    165 R14             8       No\n",
       "3                  No         NA    165 R14             8       No\n",
       "4                  No         NA    165 R14             7       No\n",
       "  Tilt.Function Top.Speed..kmph. Traction.Control Transmission.Type\n",
       "1           Yes              140               No    5 Speed Manual\n",
       "2           Yes              140               No    5 Speed Manual\n",
       "3           Yes              140               No    5 Speed Manual\n",
       "4           Yes              140               No    5 Speed Manual\n",
       "  Tubeless.Tyres Turning.Circle.Radius..metres. USB...Auxiliary.Input\n",
       "1            Yes                            5.2                    No\n",
       "2            Yes                            5.2                    No\n",
       "3            Yes                            5.2                    No\n",
       "4            Yes                            5.2                    No\n",
       "  Wheelbase..mm. brand\n",
       "1           2725 Ashok\n",
       "2           2725 Ashok\n",
       "3           2725 Ashok\n",
       "4           2725 Ashok"
      ]
     },
     "execution_count": 32,
     "metadata": {},
     "output_type": "execute_result"
    }
   ],
   "source": [
    "# Answer here\n",
    "setwd(\"/Users/amitkaps\")\n",
    "read.csv(\"small_cars.csv\")"
   ]
  },
  {
   "cell_type": "markdown",
   "metadata": {},
   "source": [
    "---"
   ]
  },
  {
   "cell_type": "markdown",
   "metadata": {},
   "source": [
    "## Vectors\n",
    "Vectors are one dimensional arrays that can hold **one** type of data. The `c` function allows us to create a vector out of provided values"
   ]
  },
  {
   "cell_type": "code",
   "execution_count": 33,
   "metadata": {
    "collapsed": false
   },
   "outputs": [
    {
     "data": {
      "text/html": [
       "<ol class=list-inline>\n",
       "\t<li>4</li>\n",
       "\t<li>5.2</li>\n",
       "\t<li>6</li>\n",
       "\t<li>5.2</li>\n",
       "\t<li>5</li>\n",
       "</ol>\n"
      ],
      "text/latex": [
       "\\begin{enumerate*}\n",
       "\\item 4\n",
       "\\item 5.2\n",
       "\\item 6\n",
       "\\item 5.2\n",
       "\\item 5\n",
       "\\end{enumerate*}\n"
      ],
      "text/markdown": [
       "1. 4\n",
       "2. 5.2\n",
       "3. 6\n",
       "4. 5.2\n",
       "5. 5\n",
       "\n",
       "\n"
      ],
      "text/plain": [
       "[1] 4.0 5.2 6.0 5.2 5.0"
      ]
     },
     "execution_count": 33,
     "metadata": {},
     "output_type": "execute_result"
    }
   ],
   "source": [
    "# Let us say we want to express the amount of Kilometers \n",
    "# that we have run in the past 5 days. \n",
    "# We can use a vector for this.\n",
    "\n",
    "kms_run <- c(4.0, 5.2, 6.0, 5.2, 5.0)\n",
    "kms_run"
   ]
  },
  {
   "cell_type": "code",
   "execution_count": 34,
   "metadata": {
    "collapsed": false
   },
   "outputs": [
    {
     "data": {
      "text/html": [
       "<ol class=list-inline>\n",
       "\t<li>TRUE</li>\n",
       "\t<li>TRUE</li>\n",
       "\t<li>FALSE</li>\n",
       "\t<li>TRUE</li>\n",
       "\t<li>FALSE</li>\n",
       "</ol>\n"
      ],
      "text/latex": [
       "\\begin{enumerate*}\n",
       "\\item TRUE\n",
       "\\item TRUE\n",
       "\\item FALSE\n",
       "\\item TRUE\n",
       "\\item FALSE\n",
       "\\end{enumerate*}\n"
      ],
      "text/markdown": [
       "1. TRUE\n",
       "2. TRUE\n",
       "3. FALSE\n",
       "4. TRUE\n",
       "5. FALSE\n",
       "\n",
       "\n"
      ],
      "text/plain": [
       "[1]  TRUE  TRUE FALSE  TRUE FALSE"
      ]
     },
     "execution_count": 34,
     "metadata": {},
     "output_type": "execute_result"
    }
   ],
   "source": [
    "# We can also use it to track which all days of the week we ran\n",
    "\n",
    "did_run <- c(TRUE, TRUE, FALSE, TRUE, FALSE)\n",
    "did_run"
   ]
  },
  {
   "cell_type": "markdown",
   "metadata": {},
   "source": [
    "---\n",
    "\n",
    "### [ Exercise ]\n",
    "\n",
    "For some analysis, let us put together the amount of kilometers that we have run over the past 2 weeks. The last week, we ran: \n",
    "\n",
    "Day of week | Kilometers\n",
    "----------- | ------------\n",
    "Monday      | 4\n",
    "Tuesday     | 5.2\n",
    "Wednesday   | 6\n",
    "Thursday    | 5.2\n",
    "Friday      | 5\n",
    "\n",
    "This is expressed as the vector:"
   ]
  },
  {
   "cell_type": "code",
   "execution_count": 35,
   "metadata": {
    "collapsed": true
   },
   "outputs": [],
   "source": [
    "kms_last_week <- c(4.0, 5.2, 6.0, 5.2, 5.0)"
   ]
  },
  {
   "cell_type": "markdown",
   "metadata": {},
   "source": [
    "This week, we ran:\n",
    "\n",
    "Day of week | Kilometers\n",
    "----------- | ------------\n",
    "Monday      | 6\n",
    "Tuesday     | 6.2\n",
    "Wednesday   | 6\n",
    "Thursday    | 7.2\n",
    "Friday      | 7.5\n",
    "\n",
    "Populate this in a vector `kms_this_week`"
   ]
  },
  {
   "cell_type": "code",
   "execution_count": 36,
   "metadata": {
    "collapsed": true
   },
   "outputs": [],
   "source": [
    "# Answer here\n",
    "kms_this_week <- c (6.0, 6.2, 6.0, 7.2, 7.5)"
   ]
  },
  {
   "cell_type": "markdown",
   "metadata": {},
   "source": [
    "---"
   ]
  },
  {
   "cell_type": "markdown",
   "metadata": {},
   "source": [
    "When we're looking at a vector, it makes more sense if we can somehow name all the values, right? \n",
    "\n",
    "Just looking at `kms_last_week` can become confusing. Let us use the `names` function to give each element the day of the week"
   ]
  },
  {
   "cell_type": "code",
   "execution_count": 37,
   "metadata": {
    "collapsed": true
   },
   "outputs": [],
   "source": [
    "names(kms_last_week) <- c(\"Monday\", \"Tuesday\", \"Wednesday\", \"Thursday\", \"Friday\")"
   ]
  },
  {
   "cell_type": "code",
   "execution_count": 38,
   "metadata": {
    "collapsed": false
   },
   "outputs": [
    {
     "data": {
      "text/html": [
       "<dl class=dl-horizontal>\n",
       "\t<dt>Monday</dt>\n",
       "\t\t<dd>4</dd>\n",
       "\t<dt>Tuesday</dt>\n",
       "\t\t<dd>5.2</dd>\n",
       "\t<dt>Wednesday</dt>\n",
       "\t\t<dd>6</dd>\n",
       "\t<dt>Thursday</dt>\n",
       "\t\t<dd>5.2</dd>\n",
       "\t<dt>Friday</dt>\n",
       "\t\t<dd>5</dd>\n",
       "</dl>\n"
      ],
      "text/latex": [
       "\\begin{description*}\n",
       "\\item[Monday] 4\n",
       "\\item[Tuesday] 5.2\n",
       "\\item[Wednesday] 6\n",
       "\\item[Thursday] 5.2\n",
       "\\item[Friday] 5\n",
       "\\end{description*}\n"
      ],
      "text/markdown": [
       "Monday\n",
       ":   4Tuesday\n",
       ":   5.2Wednesday\n",
       ":   6Thursday\n",
       ":   5.2Friday\n",
       ":   5\n",
       "\n"
      ],
      "text/plain": [
       "   Monday   Tuesday Wednesday  Thursday    Friday \n",
       "      4.0       5.2       6.0       5.2       5.0 "
      ]
     },
     "execution_count": 38,
     "metadata": {},
     "output_type": "execute_result"
    }
   ],
   "source": [
    "# Now, the data can stand independently and is much more clearer\n",
    "kms_last_week"
   ]
  },
  {
   "cell_type": "markdown",
   "metadata": {},
   "source": [
    "**Note**: We're assigning a vector when we're giving names. So instead of repeating it multiple times, we can reuse the vector as well \n"
   ]
  },
  {
   "cell_type": "code",
   "execution_count": 39,
   "metadata": {
    "collapsed": false
   },
   "outputs": [
    {
     "data": {
      "text/html": [
       "<dl class=dl-horizontal>\n",
       "\t<dt>Monday</dt>\n",
       "\t\t<dd>4</dd>\n",
       "\t<dt>Tuesday</dt>\n",
       "\t\t<dd>5.2</dd>\n",
       "\t<dt>Wednesday</dt>\n",
       "\t\t<dd>6</dd>\n",
       "\t<dt>Thursday</dt>\n",
       "\t\t<dd>5.2</dd>\n",
       "\t<dt>Friday</dt>\n",
       "\t\t<dd>5</dd>\n",
       "</dl>\n"
      ],
      "text/latex": [
       "\\begin{description*}\n",
       "\\item[Monday] 4\n",
       "\\item[Tuesday] 5.2\n",
       "\\item[Wednesday] 6\n",
       "\\item[Thursday] 5.2\n",
       "\\item[Friday] 5\n",
       "\\end{description*}\n"
      ],
      "text/markdown": [
       "Monday\n",
       ":   4Tuesday\n",
       ":   5.2Wednesday\n",
       ":   6Thursday\n",
       ":   5.2Friday\n",
       ":   5\n",
       "\n"
      ],
      "text/plain": [
       "   Monday   Tuesday Wednesday  Thursday    Friday \n",
       "      4.0       5.2       6.0       5.2       5.0 "
      ]
     },
     "execution_count": 39,
     "metadata": {},
     "output_type": "execute_result"
    }
   ],
   "source": [
    "days_of_week <- c(\"Monday\", \"Tuesday\", \"Wednesday\", \"Thursday\", \"Friday\")\n",
    "names(kms_last_week) <- days_of_week\n",
    "kms_last_week"
   ]
  },
  {
   "cell_type": "markdown",
   "metadata": {},
   "source": [
    "### Vector arithmatic"
   ]
  },
  {
   "cell_type": "markdown",
   "metadata": {},
   "source": [
    "Arithmatic can be performed on vectors. Let us calculate the total amount of kilometers that we ran on each day in the past 2 weeks "
   ]
  },
  {
   "cell_type": "code",
   "execution_count": 44,
   "metadata": {
    "collapsed": false
   },
   "outputs": [
    {
     "data": {
      "text/html": [
       "<ol class=list-inline>\n",
       "\t<li>10</li>\n",
       "\t<li>11.4</li>\n",
       "\t<li>12</li>\n",
       "\t<li>12.4</li>\n",
       "\t<li>12.5</li>\n",
       "</ol>\n"
      ],
      "text/latex": [
       "\\begin{enumerate*}\n",
       "\\item 10\n",
       "\\item 11.4\n",
       "\\item 12\n",
       "\\item 12.4\n",
       "\\item 12.5\n",
       "\\end{enumerate*}\n"
      ],
      "text/markdown": [
       "1. 10\n",
       "2. 11.4\n",
       "3. 12\n",
       "4. 12.4\n",
       "5. 12.5\n",
       "\n",
       "\n"
      ],
      "text/plain": [
       "[1] 10.0 11.4 12.0 12.4 12.5"
      ]
     },
     "execution_count": 44,
     "metadata": {},
     "output_type": "execute_result"
    }
   ],
   "source": [
    "kms_last_week <- c(4.0, 5.2, 6.0, 5.2, 5.0)\n",
    "kms_this_week <- c(6.0, 6.2, 6.0, 7.2, 7.5)\n",
    "\n",
    "total_kms_past_2_weeks <- kms_last_week + kms_this_week\n",
    "total_kms_past_2_weeks"
   ]
  },
  {
   "cell_type": "markdown",
   "metadata": {},
   "source": [
    "But how many kilometers did we run totally in each week? Sum each of the vectors using the `sum` function - simple, no?\n"
   ]
  },
  {
   "cell_type": "code",
   "execution_count": 41,
   "metadata": {
    "collapsed": false
   },
   "outputs": [
    {
     "data": {
      "text/html": [
       "25.4"
      ],
      "text/latex": [
       "25.4"
      ],
      "text/markdown": [
       "25.4"
      ],
      "text/plain": [
       "[1] 25.4"
      ]
     },
     "execution_count": 41,
     "metadata": {},
     "output_type": "execute_result"
    },
    {
     "data": {
      "text/html": [
       "32.9"
      ],
      "text/latex": [
       "32.9"
      ],
      "text/markdown": [
       "32.9"
      ],
      "text/plain": [
       "[1] 32.9"
      ]
     },
     "execution_count": 41,
     "metadata": {},
     "output_type": "execute_result"
    }
   ],
   "source": [
    "distance_last_week <- sum(kms_last_week)\n",
    "distance_this_week <- sum(kms_this_week)\n",
    "\n",
    "distance_last_week\n",
    "distance_this_week"
   ]
  },
  {
   "cell_type": "markdown",
   "metadata": {},
   "source": [
    "---\n",
    "\n",
    "### [ Exercise ]\n",
    "\n",
    "- Assign days of the week names to the `total_kms_past_2_weeks` vector using the `names` function."
   ]
  },
  {
   "cell_type": "code",
   "execution_count": 45,
   "metadata": {
    "collapsed": true
   },
   "outputs": [],
   "source": [
    "# Answer here\n",
    "names(total_kms_past_2_weeks) <- days_of_week"
   ]
  },
  {
   "cell_type": "markdown",
   "metadata": {},
   "source": [
    "- What is the total distance we ran across both weeks? Use the `total_kms_past_2_weeks` vector to arrive at your answer"
   ]
  },
  {
   "cell_type": "code",
   "execution_count": 46,
   "metadata": {
    "collapsed": false
   },
   "outputs": [
    {
     "data": {
      "text/html": [
       "58.3"
      ],
      "text/latex": [
       "58.3"
      ],
      "text/markdown": [
       "58.3"
      ],
      "text/plain": [
       "[1] 58.3"
      ]
     },
     "execution_count": 46,
     "metadata": {},
     "output_type": "execute_result"
    }
   ],
   "source": [
    "# Answer here\n",
    "sum(total_kms_past_2_weeks)"
   ]
  },
  {
   "cell_type": "markdown",
   "metadata": {},
   "source": [
    "---"
   ]
  },
  {
   "cell_type": "markdown",
   "metadata": {},
   "source": [
    "### Vector element selection"
   ]
  },
  {
   "cell_type": "markdown",
   "metadata": {},
   "source": [
    "Consider the `total_kms_past_2_weeks` vector. Let us say that we want to get the distance we ran across both weeks, on wednesday. We know that wednesday is the 3rd day of the week, So we pick up the **3rd** element from the vector like so:"
   ]
  },
  {
   "cell_type": "code",
   "execution_count": 47,
   "metadata": {
    "collapsed": false
   },
   "outputs": [
    {
     "data": {
      "text/html": [
       "<strong>Wednesday:</strong> 12"
      ],
      "text/latex": [
       "\\textbf{Wednesday:} 12"
      ],
      "text/markdown": [
       "**Wednesday:** 12"
      ],
      "text/plain": [
       "Wednesday \n",
       "       12 "
      ]
     },
     "execution_count": 47,
     "metadata": {},
     "output_type": "execute_result"
    }
   ],
   "source": [
    "total_kms_past_2_weeks[3]"
   ]
  },
  {
   "cell_type": "markdown",
   "metadata": {},
   "source": [
    "**Note:** A very important thing to note here is that R begins its indexing from `1` and not `0` unlike most other programming languages.\n"
   ]
  },
  {
   "cell_type": "markdown",
   "metadata": {},
   "source": [
    "What if we're interested in a section of results, say our performance as the week comes to an end (wednesday, thursday, friday).\n",
    "\n",
    "We can provide a vector of required indices like so:"
   ]
  },
  {
   "cell_type": "code",
   "execution_count": 48,
   "metadata": {
    "collapsed": false
   },
   "outputs": [
    {
     "data": {
      "text/html": [
       "<dl class=dl-horizontal>\n",
       "\t<dt>Wednesday</dt>\n",
       "\t\t<dd>12</dd>\n",
       "\t<dt>Thursday</dt>\n",
       "\t\t<dd>12.4</dd>\n",
       "\t<dt>Friday</dt>\n",
       "\t\t<dd>12.5</dd>\n",
       "</dl>\n"
      ],
      "text/latex": [
       "\\begin{description*}\n",
       "\\item[Wednesday] 12\n",
       "\\item[Thursday] 12.4\n",
       "\\item[Friday] 12.5\n",
       "\\end{description*}\n"
      ],
      "text/markdown": [
       "Wednesday\n",
       ":   12Thursday\n",
       ":   12.4Friday\n",
       ":   12.5\n",
       "\n"
      ],
      "text/plain": [
       "Wednesday  Thursday    Friday \n",
       "     12.0      12.4      12.5 "
      ]
     },
     "execution_count": 48,
     "metadata": {},
     "output_type": "execute_result"
    }
   ],
   "source": [
    "total_kms_past_2_weeks[c(3,4,5)]"
   ]
  },
  {
   "cell_type": "markdown",
   "metadata": {},
   "source": [
    "But say we have 100 elements in the vector, it would soon become tedious if we want to select a range, say from `50-72` or from `44-62`, right? To solve this problem, R provides us with the range operator - `:` which we takes a starting number and an ending numer and returns a vector containing all those numbers. We can then use this to fetch required elements."
   ]
  },
  {
   "cell_type": "code",
   "execution_count": 49,
   "metadata": {
    "collapsed": false
   },
   "outputs": [
    {
     "data": {
      "text/html": [
       "<ol class=list-inline>\n",
       "\t<li>1</li>\n",
       "\t<li>2</li>\n",
       "\t<li>3</li>\n",
       "\t<li>4</li>\n",
       "\t<li>5</li>\n",
       "</ol>\n"
      ],
      "text/latex": [
       "\\begin{enumerate*}\n",
       "\\item 1\n",
       "\\item 2\n",
       "\\item 3\n",
       "\\item 4\n",
       "\\item 5\n",
       "\\end{enumerate*}\n"
      ],
      "text/markdown": [
       "1. 1\n",
       "2. 2\n",
       "3. 3\n",
       "4. 4\n",
       "5. 5\n",
       "\n",
       "\n"
      ],
      "text/plain": [
       "[1] 1 2 3 4 5"
      ]
     },
     "execution_count": 49,
     "metadata": {},
     "output_type": "execute_result"
    }
   ],
   "source": [
    "# Let us look at just the range operator\n",
    "1:5"
   ]
  },
  {
   "cell_type": "markdown",
   "metadata": {},
   "source": [
    "---\n",
    "\n",
    "### [ Exercise ]\n",
    "\n",
    "Use the Range operator (`:`) to fetch the Monday - Wednesday section in the `total_kms_past_2_weeks` vector"
   ]
  },
  {
   "cell_type": "code",
   "execution_count": 53,
   "metadata": {
    "collapsed": false
   },
   "outputs": [
    {
     "data": {
      "text/html": [
       "<dl class=dl-horizontal>\n",
       "\t<dt>Monday</dt>\n",
       "\t\t<dd>10</dd>\n",
       "\t<dt>Tuesday</dt>\n",
       "\t\t<dd>11.4</dd>\n",
       "\t<dt>Wednesday</dt>\n",
       "\t\t<dd>12</dd>\n",
       "</dl>\n"
      ],
      "text/latex": [
       "\\begin{description*}\n",
       "\\item[Monday] 10\n",
       "\\item[Tuesday] 11.4\n",
       "\\item[Wednesday] 12\n",
       "\\end{description*}\n"
      ],
      "text/markdown": [
       "Monday\n",
       ":   10Tuesday\n",
       ":   11.4Wednesday\n",
       ":   12\n",
       "\n"
      ],
      "text/plain": [
       "   Monday   Tuesday Wednesday \n",
       "     10.0      11.4      12.0 "
      ]
     },
     "execution_count": 53,
     "metadata": {},
     "output_type": "execute_result"
    }
   ],
   "source": [
    "# Answer here\n",
    "total_kms_past_2_weeks[0:3]"
   ]
  },
  {
   "cell_type": "code",
   "execution_count": 52,
   "metadata": {
    "collapsed": false
   },
   "outputs": [
    {
     "data": {
      "text/html": [
       "<ol class=list-inline>\n",
       "\t<li>0</li>\n",
       "\t<li>1</li>\n",
       "\t<li>2</li>\n",
       "\t<li>3</li>\n",
       "</ol>\n"
      ],
      "text/latex": [
       "\\begin{enumerate*}\n",
       "\\item 0\n",
       "\\item 1\n",
       "\\item 2\n",
       "\\item 3\n",
       "\\end{enumerate*}\n"
      ],
      "text/markdown": [
       "1. 0\n",
       "2. 1\n",
       "3. 2\n",
       "4. 3\n",
       "\n",
       "\n"
      ],
      "text/plain": [
       "[1] 0 1 2 3"
      ]
     },
     "execution_count": 52,
     "metadata": {},
     "output_type": "execute_result"
    }
   ],
   "source": [
    "0:3"
   ]
  },
  {
   "cell_type": "markdown",
   "metadata": {},
   "source": [
    "---"
   ]
  },
  {
   "cell_type": "markdown",
   "metadata": {},
   "source": [
    "Also, since we've given names to the vector elements, we can use those names to seek to the elements instead of using indexes."
   ]
  },
  {
   "cell_type": "code",
   "execution_count": 54,
   "metadata": {
    "collapsed": false
   },
   "outputs": [
    {
     "data": {
      "text/html": [
       "<strong>Wednesday:</strong> 12"
      ],
      "text/latex": [
       "\\textbf{Wednesday:} 12"
      ],
      "text/markdown": [
       "**Wednesday:** 12"
      ],
      "text/plain": [
       "Wednesday \n",
       "       12 "
      ]
     },
     "execution_count": 54,
     "metadata": {},
     "output_type": "execute_result"
    },
    {
     "data": {
      "text/html": [
       "<dl class=dl-horizontal>\n",
       "\t<dt>Monday</dt>\n",
       "\t\t<dd>10</dd>\n",
       "\t<dt>Tuesday</dt>\n",
       "\t\t<dd>11.4</dd>\n",
       "</dl>\n"
      ],
      "text/latex": [
       "\\begin{description*}\n",
       "\\item[Monday] 10\n",
       "\\item[Tuesday] 11.4\n",
       "\\end{description*}\n"
      ],
      "text/markdown": [
       "Monday\n",
       ":   10Tuesday\n",
       ":   11.4\n",
       "\n"
      ],
      "text/plain": [
       " Monday Tuesday \n",
       "   10.0    11.4 "
      ]
     },
     "execution_count": 54,
     "metadata": {},
     "output_type": "execute_result"
    }
   ],
   "source": [
    "names(total_kms_past_2_weeks) <- c(\"Monday\", \"Tuesday\", \"Wednesday\", \"Thursday\", \"Friday\")\n",
    "total_kms_past_2_weeks[\"Wednesday\"]\n",
    "total_kms_past_2_weeks[c(\"Monday\", \"Tuesday\")]"
   ]
  },
  {
   "cell_type": "markdown",
   "metadata": {},
   "source": [
    "We can also perform logical operations on vectors. Let us check to see on how many days in the last week, we ran more than 4 kilometers"
   ]
  },
  {
   "cell_type": "code",
   "execution_count": 55,
   "metadata": {
    "collapsed": false
   },
   "outputs": [
    {
     "data": {
      "text/html": [
       "<dl class=dl-horizontal>\n",
       "\t<dt>Monday</dt>\n",
       "\t\t<dd>FALSE</dd>\n",
       "\t<dt>Tuesday</dt>\n",
       "\t\t<dd>TRUE</dd>\n",
       "\t<dt>Wednesday</dt>\n",
       "\t\t<dd>TRUE</dd>\n",
       "\t<dt>Thursday</dt>\n",
       "\t\t<dd>TRUE</dd>\n",
       "\t<dt>Friday</dt>\n",
       "\t\t<dd>FALSE</dd>\n",
       "</dl>\n"
      ],
      "text/latex": [
       "\\begin{description*}\n",
       "\\item[Monday] FALSE\n",
       "\\item[Tuesday] TRUE\n",
       "\\item[Wednesday] TRUE\n",
       "\\item[Thursday] TRUE\n",
       "\\item[Friday] FALSE\n",
       "\\end{description*}\n"
      ],
      "text/markdown": [
       "Monday\n",
       ":   FALSETuesday\n",
       ":   TRUEWednesday\n",
       ":   TRUEThursday\n",
       ":   TRUEFriday\n",
       ":   FALSE\n",
       "\n"
      ],
      "text/plain": [
       "   Monday   Tuesday Wednesday  Thursday    Friday \n",
       "    FALSE      TRUE      TRUE      TRUE     FALSE "
      ]
     },
     "execution_count": 55,
     "metadata": {},
     "output_type": "execute_result"
    }
   ],
   "source": [
    "kms_last_week <- c(4.0, 5.2, 6.0, 5.2, 5.0)\n",
    "\n",
    "names(kms_last_week) <- c(\"Monday\", \"Tuesday\", \"Wednesday\", \"Thursday\", \"Friday\")\n",
    "\n",
    "days_more_than_5 <- kms_last_week > 5\n",
    "days_more_than_5"
   ]
  },
  {
   "cell_type": "markdown",
   "metadata": {},
   "source": [
    "We can use logical operations in combination with the vector to select only those elements from a vector that match a condition.\n",
    "\n",
    "Now that `days_more_than_5` contain a list of days where we ran more than 5 kilometers, let us select _just_ those items into another vector"
   ]
  },
  {
   "cell_type": "code",
   "execution_count": 56,
   "metadata": {
    "collapsed": false
   },
   "outputs": [
    {
     "data": {
      "text/html": [
       "<dl class=dl-horizontal>\n",
       "\t<dt>Tuesday</dt>\n",
       "\t\t<dd>5.2</dd>\n",
       "\t<dt>Wednesday</dt>\n",
       "\t\t<dd>6</dd>\n",
       "\t<dt>Thursday</dt>\n",
       "\t\t<dd>5.2</dd>\n",
       "</dl>\n"
      ],
      "text/latex": [
       "\\begin{description*}\n",
       "\\item[Tuesday] 5.2\n",
       "\\item[Wednesday] 6\n",
       "\\item[Thursday] 5.2\n",
       "\\end{description*}\n"
      ],
      "text/markdown": [
       "Tuesday\n",
       ":   5.2Wednesday\n",
       ":   6Thursday\n",
       ":   5.2\n",
       "\n"
      ],
      "text/plain": [
       "  Tuesday Wednesday  Thursday \n",
       "      5.2       6.0       5.2 "
      ]
     },
     "execution_count": 56,
     "metadata": {},
     "output_type": "execute_result"
    }
   ],
   "source": [
    "kms_last_week[days_more_than_5]"
   ]
  },
  {
   "cell_type": "code",
   "execution_count": 59,
   "metadata": {
    "collapsed": false
   },
   "outputs": [
    {
     "data": {
      "text/html": [
       "<strong>Monday:</strong> 4"
      ],
      "text/latex": [
       "\\textbf{Monday:} 4"
      ],
      "text/markdown": [
       "**Monday:** 4"
      ],
      "text/plain": [
       "Monday \n",
       "     4 "
      ]
     },
     "execution_count": 59,
     "metadata": {},
     "output_type": "execute_result"
    }
   ],
   "source": [
    "kms_last_week[kms_last_week<5]"
   ]
  },
  {
   "cell_type": "markdown",
   "metadata": {},
   "source": [
    "## Factors\n",
    "Usually, most data is catagorical. Meaning that data can usually be put into catagories.\n",
    "\n",
    "Let's start with something simple. Training for runs happens in 2 forms:\n",
    "\n",
    "- Interval based training, where you focus on speed \n",
    "- Distance based training, where the focus is on endurance"
   ]
  },
  {
   "cell_type": "markdown",
   "metadata": {},
   "source": [
    "Take a vector that represents all the days we did intervals / distance in the last 10 days. There are some days where we rest as well."
   ]
  },
  {
   "cell_type": "code",
   "execution_count": 60,
   "metadata": {
    "collapsed": false
   },
   "outputs": [
    {
     "data": {
      "text/html": [
       "<dl class=dl-horizontal>\n",
       "\t<dt>1</dt>\n",
       "\t\t<dd>'INT'</dd>\n",
       "\t<dt>2</dt>\n",
       "\t\t<dd>'INT'</dd>\n",
       "\t<dt>3</dt>\n",
       "\t\t<dd>'DIST'</dd>\n",
       "\t<dt>4</dt>\n",
       "\t\t<dd>'DIST'</dd>\n",
       "\t<dt>5</dt>\n",
       "\t\t<dd>'DIST'</dd>\n",
       "\t<dt>6</dt>\n",
       "\t\t<dd>'REST'</dd>\n",
       "\t<dt>7</dt>\n",
       "\t\t<dd>'INT'</dd>\n",
       "\t<dt>8</dt>\n",
       "\t\t<dd>'DIST'</dd>\n",
       "\t<dt>9</dt>\n",
       "\t\t<dd>'DIST'</dd>\n",
       "\t<dt>10</dt>\n",
       "\t\t<dd>'DIST'</dd>\n",
       "</dl>\n"
      ],
      "text/latex": [
       "\\begin{description*}\n",
       "\\item[1] 'INT'\n",
       "\\item[2] 'INT'\n",
       "\\item[3] 'DIST'\n",
       "\\item[4] 'DIST'\n",
       "\\item[5] 'DIST'\n",
       "\\item[6] 'REST'\n",
       "\\item[7] 'INT'\n",
       "\\item[8] 'DIST'\n",
       "\\item[9] 'DIST'\n",
       "\\item[10] 'DIST'\n",
       "\\end{description*}\n"
      ],
      "text/markdown": [
       "1\n",
       ":   'INT'2\n",
       ":   'INT'3\n",
       ":   'DIST'4\n",
       ":   'DIST'5\n",
       ":   'DIST'6\n",
       ":   'REST'7\n",
       ":   'INT'8\n",
       ":   'DIST'9\n",
       ":   'DIST'10\n",
       ":   'DIST'\n",
       "\n"
      ],
      "text/plain": [
       "     1      2      3      4      5      6      7      8      9     10 \n",
       " \"INT\"  \"INT\" \"DIST\" \"DIST\" \"DIST\" \"REST\"  \"INT\" \"DIST\" \"DIST\" \"DIST\" "
      ]
     },
     "execution_count": 60,
     "metadata": {},
     "output_type": "execute_result"
    }
   ],
   "source": [
    "running_style <- c(\"INT\", \"INT\", \"DIST\", \"DIST\", \"DIST\", \"REST\", \"INT\", \"DIST\", \"DIST\", \"DIST\")\n",
    "names(running_style) <- 1:10\n",
    "running_style"
   ]
  },
  {
   "cell_type": "markdown",
   "metadata": {},
   "source": [
    "As you see, we can divide our runs into **categories**. Factors are used to represent these categories. Let us use the `factor` function to create a factor variable out of this vector"
   ]
  },
  {
   "cell_type": "code",
   "execution_count": 61,
   "metadata": {
    "collapsed": true
   },
   "outputs": [],
   "source": [
    "running_style_f <- factor(running_style)"
   ]
  },
  {
   "cell_type": "markdown",
   "metadata": {},
   "source": [
    "Once we have this, we can use the `levels` function to extract the different levels that R interprets for us."
   ]
  },
  {
   "cell_type": "code",
   "execution_count": 62,
   "metadata": {
    "collapsed": false
   },
   "outputs": [
    {
     "data": {
      "text/html": [
       "<ol class=list-inline>\n",
       "\t<li>'DIST'</li>\n",
       "\t<li>'INT'</li>\n",
       "\t<li>'REST'</li>\n",
       "</ol>\n"
      ],
      "text/latex": [
       "\\begin{enumerate*}\n",
       "\\item 'DIST'\n",
       "\\item 'INT'\n",
       "\\item 'REST'\n",
       "\\end{enumerate*}\n"
      ],
      "text/markdown": [
       "1. 'DIST'\n",
       "2. 'INT'\n",
       "3. 'REST'\n",
       "\n",
       "\n"
      ],
      "text/plain": [
       "[1] \"DIST\" \"INT\"  \"REST\""
      ]
     },
     "execution_count": 62,
     "metadata": {},
     "output_type": "execute_result"
    }
   ],
   "source": [
    "levels(running_style_f)"
   ]
  },
  {
   "cell_type": "markdown",
   "metadata": {},
   "source": [
    "Perfect, this tells us that we have 3 `level`s, i.e. we indeed have 3 running styles. \n",
    "\n",
    "We can confirm that `running_style_f` is indeed a factor variable by checking its underlying type with the `class function`"
   ]
  },
  {
   "cell_type": "code",
   "execution_count": 63,
   "metadata": {
    "collapsed": false
   },
   "outputs": [
    {
     "data": {
      "text/html": [
       "'factor'"
      ],
      "text/latex": [
       "'factor'"
      ],
      "text/markdown": [
       "'factor'"
      ],
      "text/plain": [
       "[1] \"factor\""
      ]
     },
     "execution_count": 63,
     "metadata": {},
     "output_type": "execute_result"
    }
   ],
   "source": [
    "class(running_style_f)"
   ]
  },
  {
   "cell_type": "markdown",
   "metadata": {},
   "source": [
    "Once we have our `level`s, we can modify them to our suiting with the `levels` function (very similar to the `names` function)"
   ]
  },
  {
   "cell_type": "code",
   "execution_count": 64,
   "metadata": {
    "collapsed": false
   },
   "outputs": [
    {
     "data": {
      "text/html": [
       "<ol class=list-inline>\n",
       "\t<li>'DIST'</li>\n",
       "\t<li>'INT'</li>\n",
       "\t<li>'REST'</li>\n",
       "</ol>\n"
      ],
      "text/latex": [
       "\\begin{enumerate*}\n",
       "\\item 'DIST'\n",
       "\\item 'INT'\n",
       "\\item 'REST'\n",
       "\\end{enumerate*}\n"
      ],
      "text/markdown": [
       "1. 'DIST'\n",
       "2. 'INT'\n",
       "3. 'REST'\n",
       "\n",
       "\n"
      ],
      "text/plain": [
       "[1] \"DIST\" \"INT\"  \"REST\""
      ]
     },
     "execution_count": 64,
     "metadata": {},
     "output_type": "execute_result"
    },
    {
     "data": {
      "text/html": [
       "<ol class=list-inline>\n",
       "\t<li>'Endurance'</li>\n",
       "\t<li>'Speed'</li>\n",
       "\t<li>'Rest'</li>\n",
       "</ol>\n"
      ],
      "text/latex": [
       "\\begin{enumerate*}\n",
       "\\item 'Endurance'\n",
       "\\item 'Speed'\n",
       "\\item 'Rest'\n",
       "\\end{enumerate*}\n"
      ],
      "text/markdown": [
       "1. 'Endurance'\n",
       "2. 'Speed'\n",
       "3. 'Rest'\n",
       "\n",
       "\n"
      ],
      "text/plain": [
       "[1] \"Endurance\" \"Speed\"     \"Rest\"     "
      ]
     },
     "execution_count": 64,
     "metadata": {},
     "output_type": "execute_result"
    }
   ],
   "source": [
    "levels(running_style_f)\n",
    "levels(running_style_f) <- c(\"Endurance\", \"Speed\", \"Rest\")\n",
    "levels(running_style_f)"
   ]
  },
  {
   "cell_type": "markdown",
   "metadata": {},
   "source": [
    "This also gives us access to a new function - `summary` which gives us a summary of the data"
   ]
  },
  {
   "cell_type": "code",
   "execution_count": 65,
   "metadata": {
    "collapsed": false
   },
   "outputs": [
    {
     "data": {
      "text/html": [
       "<dl class=dl-horizontal>\n",
       "\t<dt>Endurance</dt>\n",
       "\t\t<dd>6</dd>\n",
       "\t<dt>Speed</dt>\n",
       "\t\t<dd>3</dd>\n",
       "\t<dt>Rest</dt>\n",
       "\t\t<dd>1</dd>\n",
       "</dl>\n"
      ],
      "text/latex": [
       "\\begin{description*}\n",
       "\\item[Endurance] 6\n",
       "\\item[Speed] 3\n",
       "\\item[Rest] 1\n",
       "\\end{description*}\n"
      ],
      "text/markdown": [
       "Endurance\n",
       ":   6Speed\n",
       ":   3Rest\n",
       ":   1\n",
       "\n"
      ],
      "text/plain": [
       "Endurance     Speed      Rest \n",
       "        6         3         1 "
      ]
     },
     "execution_count": 65,
     "metadata": {},
     "output_type": "execute_result"
    }
   ],
   "source": [
    "summary(running_style_f)"
   ]
  },
  {
   "cell_type": "markdown",
   "metadata": {},
   "source": [
    "This quickly tells us that out of the 10 days we ran, on 6 we did distance runs, 3 were interval runs and we took 1 day of rest."
   ]
  },
  {
   "cell_type": "markdown",
   "metadata": {},
   "source": [
    "### Types of factor variables\n",
    "\n",
    "As said, `Factor` allow us to create _categorical_ variables. These variables can be of 2 types:\n",
    "\n",
    "- Nominal\n",
    "- Ordinal"
   ]
  },
  {
   "cell_type": "markdown",
   "metadata": {},
   "source": [
    "#### Nominal Variables\n",
    "\n",
    "By default a factor is nominal. Meaning that it picks categories by name and without any assigned order. So trying a logical `<` or `>` operation against them won't yield us anything"
   ]
  },
  {
   "cell_type": "code",
   "execution_count": 66,
   "metadata": {
    "collapsed": false
   },
   "outputs": [
    {
     "name": "stderr",
     "output_type": "stream",
     "text": [
      "Warning message:\n",
      "In Ops.factor(running_style_f[1], running_style_f[2]): '>' not meaningful for factors"
     ]
    },
    {
     "data": {
      "text/plain": [
       "[1] NA"
      ]
     },
     "execution_count": 66,
     "metadata": {},
     "output_type": "execute_result"
    }
   ],
   "source": [
    "running_style_f = factor(running_style)\n",
    "running_style_f[1] > running_style_f[2]"
   ]
  },
  {
   "cell_type": "markdown",
   "metadata": {},
   "source": [
    "As you see, it yields us a \"`>` not meaningful for factors\" error\n"
   ]
  },
  {
   "cell_type": "markdown",
   "metadata": {},
   "source": [
    "#### Ordinal Variables\n",
    "\n",
    "Passing a `order=TRUE` argument to `factor` will make the factor into an ordinal variable and `<` and `>` are meaningful here. \n",
    "\n",
    "Consider the amount of kilometers run in the past 10 days"
   ]
  },
  {
   "cell_type": "code",
   "execution_count": null,
   "metadata": {
    "collapsed": true
   },
   "outputs": [],
   "source": [
    "kms_run <- c(4.0, 5.2, 6.0, 5.2, 5.0, 6.0, 6.2, 6.0, 7.2, 7.5)"
   ]
  },
  {
   "cell_type": "code",
   "execution_count": 68,
   "metadata": {
    "collapsed": true
   },
   "outputs": [],
   "source": [
    "# Lets classify this into Long, Medium and Short runs manually\n",
    "distance_type <- c(\"S\", \"M\", \"M\", \"M\", \"M\", \"M\", \"M\", \"M\", \"L\", \"L\")"
   ]
  },
  {
   "cell_type": "markdown",
   "metadata": {},
   "source": [
    "Now we can pick up factors from this, but we understand an order here. Short < Medium < Long. To introduce an order, we need to pass the `order=TRUE` and pass the right order of the `levels` we require. \n"
   ]
  },
  {
   "cell_type": "code",
   "execution_count": 69,
   "metadata": {
    "collapsed": false
   },
   "outputs": [
    {
     "data": {
      "text/html": [
       "<ol class=list-inline>\n",
       "\t<li>S</li>\n",
       "\t<li>M</li>\n",
       "\t<li>M</li>\n",
       "\t<li>M</li>\n",
       "\t<li>M</li>\n",
       "\t<li>M</li>\n",
       "\t<li>M</li>\n",
       "\t<li>M</li>\n",
       "\t<li>L</li>\n",
       "\t<li>L</li>\n",
       "</ol>\n"
      ],
      "text/latex": [
       "\\begin{enumerate*}\n",
       "\\item S\n",
       "\\item M\n",
       "\\item M\n",
       "\\item M\n",
       "\\item M\n",
       "\\item M\n",
       "\\item M\n",
       "\\item M\n",
       "\\item L\n",
       "\\item L\n",
       "\\end{enumerate*}\n"
      ],
      "text/markdown": [
       "1. S\n",
       "2. M\n",
       "3. M\n",
       "4. M\n",
       "5. M\n",
       "6. M\n",
       "7. M\n",
       "8. M\n",
       "9. L\n",
       "10. L\n",
       "\n",
       "\n"
      ],
      "text/plain": [
       " [1] S M M M M M M M L L\n",
       "Levels: S < M < L"
      ]
     },
     "execution_count": 69,
     "metadata": {},
     "output_type": "execute_result"
    }
   ],
   "source": [
    "distance_type_f = factor(distance_type, order=TRUE, levels=c(\"S\", \"M\", \"L\"))\n",
    "distance_type_f"
   ]
  },
  {
   "cell_type": "markdown",
   "metadata": {},
   "source": [
    "Now that we have an order in place, we can use `<` and `>`\n"
   ]
  },
  {
   "cell_type": "code",
   "execution_count": 71,
   "metadata": {
    "collapsed": false
   },
   "outputs": [
    {
     "data": {
      "text/html": [
       "S"
      ],
      "text/latex": [
       "S"
      ],
      "text/markdown": [
       "S"
      ],
      "text/plain": [
       "[1] S\n",
       "Levels: S < M < L"
      ]
     },
     "execution_count": 71,
     "metadata": {},
     "output_type": "execute_result"
    },
    {
     "data": {
      "text/html": [
       "M"
      ],
      "text/latex": [
       "M"
      ],
      "text/markdown": [
       "M"
      ],
      "text/plain": [
       "[1] M\n",
       "Levels: S < M < L"
      ]
     },
     "execution_count": 71,
     "metadata": {},
     "output_type": "execute_result"
    },
    {
     "data": {
      "text/html": [
       "FALSE"
      ],
      "text/latex": [
       "FALSE"
      ],
      "text/markdown": [
       "FALSE"
      ],
      "text/plain": [
       "[1] FALSE"
      ]
     },
     "execution_count": 71,
     "metadata": {},
     "output_type": "execute_result"
    }
   ],
   "source": [
    "distance_type_f[1]\n",
    "distance_type_f[2]\n",
    "distance_type_f[1] > distance_type_f[2]"
   ]
  },
  {
   "cell_type": "markdown",
   "metadata": {},
   "source": [
    "The real reason why factors are important will be covered in forthcoming sessions. This just introduces the concept and the necessity for it."
   ]
  },
  {
   "cell_type": "markdown",
   "metadata": {},
   "source": [
    "## Data Frame\n",
    "\n",
    "The Data Frame is R's most iconic type. Soon, you'll find out that a Data Frame\n",
    "is great to express all kinds of data\n",
    "\n",
    "Think of a Data Frame as a 2 dimensional structure having rows and columns. Each column may be of a different type each row can be thought of as representing an observation\n",
    "\n",
    "To quickly get started with data frames, let us use an inbuilt data frame in R that contains some data on cars. From the help:\n",
    "\n",
    "> The data was extracted from the 1974 Motor Trend US magazine, and comprises fuel consumption and 10 aspects of automobile design and performance for 32 automobiles (1973–74 models).\n",
    "\n",
    "This data is stored in `mtcars`. Let us look at it."
   ]
  },
  {
   "cell_type": "code",
   "execution_count": 73,
   "metadata": {
    "collapsed": false
   },
   "outputs": [
    {
     "data": {
      "text/html": [
       "\n",
       "<table width=\"100%\" summary=\"page for mtcars {datasets}\"><tr><td>mtcars {datasets}</td><td style=\"text-align: right;\">R Documentation</td></tr></table>\n",
       "\n",
       "<h2>Motor Trend Car Road Tests</h2>\n",
       "\n",
       "<h3>Description</h3>\n",
       "\n",
       "<p>The data was extracted from the 1974 <em>Motor Trend</em> US magazine,\n",
       "and comprises fuel consumption and 10 aspects of\n",
       "automobile design and performance for 32 automobiles (1973&ndash;74\n",
       "models).\n",
       "</p>\n",
       "\n",
       "\n",
       "<h3>Usage</h3>\n",
       "\n",
       "<pre>mtcars</pre>\n",
       "\n",
       "\n",
       "<h3>Format</h3>\n",
       "\n",
       "<p>A data frame with 32 observations on 11 variables.\n",
       "</p>\n",
       "\n",
       "<table summary=\"Rd table\">\n",
       "<tr>\n",
       " <td style=\"text-align: right;\">\n",
       "    [, 1] </td><td style=\"text-align: left;\"> mpg  </td><td style=\"text-align: left;\"> Miles/(US) gallon </td>\n",
       "</tr>\n",
       "<tr>\n",
       " <td style=\"text-align: right;\">\n",
       "    [, 2] </td><td style=\"text-align: left;\"> cyl  </td><td style=\"text-align: left;\"> Number of cylinders </td>\n",
       "</tr>\n",
       "<tr>\n",
       " <td style=\"text-align: right;\">\n",
       "    [, 3] </td><td style=\"text-align: left;\"> disp </td><td style=\"text-align: left;\"> Displacement (cu.in.) </td>\n",
       "</tr>\n",
       "<tr>\n",
       " <td style=\"text-align: right;\">\n",
       "    [, 4] </td><td style=\"text-align: left;\"> hp   </td><td style=\"text-align: left;\"> Gross horsepower </td>\n",
       "</tr>\n",
       "<tr>\n",
       " <td style=\"text-align: right;\">\n",
       "    [, 5] </td><td style=\"text-align: left;\"> drat </td><td style=\"text-align: left;\"> Rear axle ratio </td>\n",
       "</tr>\n",
       "<tr>\n",
       " <td style=\"text-align: right;\">\n",
       "    [, 6] </td><td style=\"text-align: left;\"> wt   </td><td style=\"text-align: left;\"> Weight (1000 lbs) </td>\n",
       "</tr>\n",
       "<tr>\n",
       " <td style=\"text-align: right;\">\n",
       "    [, 7] </td><td style=\"text-align: left;\"> qsec </td><td style=\"text-align: left;\"> 1/4 mile time </td>\n",
       "</tr>\n",
       "<tr>\n",
       " <td style=\"text-align: right;\">\n",
       "    [, 8] </td><td style=\"text-align: left;\"> vs   </td><td style=\"text-align: left;\"> V/S </td>\n",
       "</tr>\n",
       "<tr>\n",
       " <td style=\"text-align: right;\">\n",
       "    [, 9] </td><td style=\"text-align: left;\"> am   </td><td style=\"text-align: left;\"> Transmission (0 = automatic, 1 = manual) </td>\n",
       "</tr>\n",
       "<tr>\n",
       " <td style=\"text-align: right;\">\n",
       "    [,10] </td><td style=\"text-align: left;\"> gear </td><td style=\"text-align: left;\"> Number of forward gears </td>\n",
       "</tr>\n",
       "<tr>\n",
       " <td style=\"text-align: right;\">\n",
       "    [,11] </td><td style=\"text-align: left;\"> carb </td><td style=\"text-align: left;\"> Number of carburetors\n",
       "  </td>\n",
       "</tr>\n",
       "\n",
       "</table>\n",
       "\n",
       "\n",
       "\n",
       "<h3>Source</h3>\n",
       "\n",
       "<p>Henderson and Velleman (1981),\n",
       "Building multiple regression models interactively.\n",
       "<em>Biometrics</em>, <b>37</b>, 391&ndash;411.\n",
       "</p>\n",
       "\n",
       "\n",
       "<h3>Examples</h3>\n",
       "\n",
       "<pre>\n",
       "require(graphics)\n",
       "pairs(mtcars, main = \"mtcars data\")\n",
       "coplot(mpg ~ disp | as.factor(cyl), data = mtcars,\n",
       "       panel = panel.smooth, rows = 1)\n",
       "</pre>\n",
       "\n",
       "<hr /><div style=\"text-align: center;\">[Package <em>datasets</em> version 3.2.4 ]</div>"
      ],
      "text/latex": [
       "\\inputencoding{utf8}\n",
       "\\HeaderA{mtcars}{Motor Trend Car Road Tests}{mtcars}\n",
       "\\keyword{datasets}{mtcars}\n",
       "%\n",
       "\\begin{Description}\\relax\n",
       "The data was extracted from the 1974 \\emph{Motor Trend} US magazine,\n",
       "and comprises fuel consumption and 10 aspects of\n",
       "automobile design and performance for 32 automobiles (1973--74\n",
       "models).\n",
       "\\end{Description}\n",
       "%\n",
       "\\begin{Usage}\n",
       "\\begin{verbatim}\n",
       "mtcars\n",
       "\\end{verbatim}\n",
       "\\end{Usage}\n",
       "%\n",
       "\\begin{Format}\n",
       "A data frame with 32 observations on 11 variables.\n",
       "\n",
       "\\Tabular{rll}{\n",
       "[, 1] & mpg  & Miles/(US) gallon \\\\{}\n",
       "[, 2] & cyl  & Number of cylinders \\\\{}\n",
       "[, 3] & disp & Displacement (cu.in.) \\\\{}\n",
       "[, 4] & hp   & Gross horsepower \\\\{}\n",
       "[, 5] & drat & Rear axle ratio \\\\{}\n",
       "[, 6] & wt   & Weight (1000 lbs) \\\\{}\n",
       "[, 7] & qsec & 1/4 mile time \\\\{}\n",
       "[, 8] & vs   & V/S \\\\{}\n",
       "[, 9] & am   & Transmission (0 = automatic, 1 = manual) \\\\{}\n",
       "[,10] & gear & Number of forward gears \\\\{}\n",
       "[,11] & carb & Number of carburetors\n",
       "}\n",
       "\\end{Format}\n",
       "%\n",
       "\\begin{Source}\\relax\n",
       "Henderson and Velleman (1981),\n",
       "Building multiple regression models interactively.\n",
       "\\emph{Biometrics}, \\bold{37}, 391--411.\n",
       "\\end{Source}\n",
       "%\n",
       "\\begin{Examples}\n",
       "\\begin{ExampleCode}\n",
       "require(graphics)\n",
       "pairs(mtcars, main = \"mtcars data\")\n",
       "coplot(mpg ~ disp | as.factor(cyl), data = mtcars,\n",
       "       panel = panel.smooth, rows = 1)\n",
       "\\end{ExampleCode}\n",
       "\\end{Examples}"
      ],
      "text/plain": [
       "mtcars                package:datasets                 R Documentation\n",
       "\n",
       "_\bM_\bo_\bt_\bo_\br _\bT_\br_\be_\bn_\bd _\bC_\ba_\br _\bR_\bo_\ba_\bd _\bT_\be_\bs_\bt_\bs\n",
       "\n",
       "_\bD_\be_\bs_\bc_\br_\bi_\bp_\bt_\bi_\bo_\bn:\n",
       "\n",
       "     The data was extracted from the 1974 _Motor Trend_ US magazine,\n",
       "     and comprises fuel consumption and 10 aspects of automobile design\n",
       "     and performance for 32 automobiles (1973-74 models).\n",
       "\n",
       "_\bU_\bs_\ba_\bg_\be:\n",
       "\n",
       "     mtcars\n",
       "     \n",
       "_\bF_\bo_\br_\bm_\ba_\bt:\n",
       "\n",
       "     A data frame with 32 observations on 11 variables.\n",
       "\n",
       "       [, 1]  mpg   Miles/(US) gallon                        \n",
       "       [, 2]  cyl   Number of cylinders                      \n",
       "       [, 3]  disp  Displacement (cu.in.)                    \n",
       "       [, 4]  hp    Gross horsepower                         \n",
       "       [, 5]  drat  Rear axle ratio                          \n",
       "       [, 6]  wt    Weight (1000 lbs)                        \n",
       "       [, 7]  qsec  1/4 mile time                            \n",
       "       [, 8]  vs    V/S                                      \n",
       "       [, 9]  am    Transmission (0 = automatic, 1 = manual) \n",
       "       [,10]  gear  Number of forward gears                  \n",
       "       [,11]  carb  Number of carburetors                    \n",
       "      \n",
       "_\bS_\bo_\bu_\br_\bc_\be:\n",
       "\n",
       "     Henderson and Velleman (1981), Building multiple regression models\n",
       "     interactively.  _Biometrics_, *37*, 391-411.\n",
       "\n",
       "_\bE_\bx_\ba_\bm_\bp_\bl_\be_\bs:\n",
       "\n",
       "     require(graphics)\n",
       "     pairs(mtcars, main = \"mtcars data\")\n",
       "     coplot(mpg ~ disp | as.factor(cyl), data = mtcars,\n",
       "            panel = panel.smooth, rows = 1)\n",
       "     "
      ]
     },
     "execution_count": 73,
     "metadata": {},
     "output_type": "execute_result"
    }
   ],
   "source": [
    "?mtcars"
   ]
  },
  {
   "cell_type": "markdown",
   "metadata": {},
   "source": [
    "---\n",
    "\n",
    "### [ Exercise ]\n",
    "\n",
    "How will you find out what **type** `mtcars` is?"
   ]
  },
  {
   "cell_type": "code",
   "execution_count": 74,
   "metadata": {
    "collapsed": false
   },
   "outputs": [
    {
     "data": {
      "text/html": [
       "'data.frame'"
      ],
      "text/latex": [
       "'data.frame'"
      ],
      "text/markdown": [
       "'data.frame'"
      ],
      "text/plain": [
       "[1] \"data.frame\""
      ]
     },
     "execution_count": 74,
     "metadata": {},
     "output_type": "execute_result"
    }
   ],
   "source": [
    "# Answer here\n",
    "class(mtcars)"
   ]
  },
  {
   "cell_type": "markdown",
   "metadata": {},
   "source": [
    "---"
   ]
  },
  {
   "cell_type": "markdown",
   "metadata": {},
   "source": [
    "As you can see, it contains data about cars, each row represents one particular car and its associated details.\n",
    "\n",
    "One of the most important things when working with Data Frames and in general with Data Science is to spend time understanding the structure of data. The structure of data, however is independent of the data itself. It is enough to get a _glimpse_ of the data to get started with. \n",
    "\n",
    "For this sake, R exposes 2 functions - `head` and `tail` that allow us to peek at the starting / ending of the data frame\n"
   ]
  },
  {
   "cell_type": "code",
   "execution_count": 75,
   "metadata": {
    "collapsed": false
   },
   "outputs": [
    {
     "data": {
      "text/html": [
       "<table>\n",
       "<thead><tr><th></th><th scope=col>mpg</th><th scope=col>cyl</th><th scope=col>disp</th><th scope=col>hp</th><th scope=col>drat</th><th scope=col>wt</th><th scope=col>qsec</th><th scope=col>vs</th><th scope=col>am</th><th scope=col>gear</th><th scope=col>carb</th></tr></thead>\n",
       "<tbody>\n",
       "\t<tr><th scope=row>Mazda RX4</th><td>21</td><td>6</td><td>160</td><td>110</td><td>3.9</td><td>2.62</td><td>16.46</td><td>0</td><td>1</td><td>4</td><td>4</td></tr>\n",
       "\t<tr><th scope=row>Mazda RX4 Wag</th><td>21</td><td>6</td><td>160</td><td>110</td><td>3.9</td><td>2.875</td><td>17.02</td><td>0</td><td>1</td><td>4</td><td>4</td></tr>\n",
       "\t<tr><th scope=row>Datsun 710</th><td>22.8</td><td>4</td><td>108</td><td>93</td><td>3.85</td><td>2.32</td><td>18.61</td><td>1</td><td>1</td><td>4</td><td>1</td></tr>\n",
       "\t<tr><th scope=row>Hornet 4 Drive</th><td>21.4</td><td>6</td><td>258</td><td>110</td><td>3.08</td><td>3.215</td><td>19.44</td><td>1</td><td>0</td><td>3</td><td>1</td></tr>\n",
       "\t<tr><th scope=row>Hornet Sportabout</th><td>18.7</td><td>8</td><td>360</td><td>175</td><td>3.15</td><td>3.44</td><td>17.02</td><td>0</td><td>0</td><td>3</td><td>2</td></tr>\n",
       "\t<tr><th scope=row>Valiant</th><td>18.1</td><td>6</td><td>225</td><td>105</td><td>2.76</td><td>3.46</td><td>20.22</td><td>1</td><td>0</td><td>3</td><td>1</td></tr>\n",
       "</tbody>\n",
       "</table>\n"
      ],
      "text/latex": [
       "\\begin{tabular}{r|lllllllllll}\n",
       "  & mpg & cyl & disp & hp & drat & wt & qsec & vs & am & gear & carb\\\\\n",
       "\\hline\n",
       "\tMazda RX4 & 21 & 6 & 160 & 110 & 3.9 & 2.62 & 16.46 & 0 & 1 & 4 & 4\\\\\n",
       "\tMazda RX4 Wag & 21 & 6 & 160 & 110 & 3.9 & 2.875 & 17.02 & 0 & 1 & 4 & 4\\\\\n",
       "\tDatsun 710 & 22.8 & 4 & 108 & 93 & 3.85 & 2.32 & 18.61 & 1 & 1 & 4 & 1\\\\\n",
       "\tHornet 4 Drive & 21.4 & 6 & 258 & 110 & 3.08 & 3.215 & 19.44 & 1 & 0 & 3 & 1\\\\\n",
       "\tHornet Sportabout & 18.7 & 8 & 360 & 175 & 3.15 & 3.44 & 17.02 & 0 & 0 & 3 & 2\\\\\n",
       "\tValiant & 18.1 & 6 & 225 & 105 & 2.76 & 3.46 & 20.22 & 1 & 0 & 3 & 1\\\\\n",
       "\\end{tabular}\n"
      ],
      "text/plain": [
       "                   mpg cyl disp  hp drat    wt  qsec vs am gear carb\n",
       "Mazda RX4         21.0   6  160 110 3.90 2.620 16.46  0  1    4    4\n",
       "Mazda RX4 Wag     21.0   6  160 110 3.90 2.875 17.02  0  1    4    4\n",
       "Datsun 710        22.8   4  108  93 3.85 2.320 18.61  1  1    4    1\n",
       "Hornet 4 Drive    21.4   6  258 110 3.08 3.215 19.44  1  0    3    1\n",
       "Hornet Sportabout 18.7   8  360 175 3.15 3.440 17.02  0  0    3    2\n",
       "Valiant           18.1   6  225 105 2.76 3.460 20.22  1  0    3    1"
      ]
     },
     "execution_count": 75,
     "metadata": {},
     "output_type": "execute_result"
    }
   ],
   "source": [
    "# head\n",
    "head(mtcars)"
   ]
  },
  {
   "cell_type": "code",
   "execution_count": 76,
   "metadata": {
    "collapsed": false
   },
   "outputs": [
    {
     "data": {
      "text/html": [
       "<table>\n",
       "<thead><tr><th></th><th scope=col>mpg</th><th scope=col>cyl</th><th scope=col>disp</th><th scope=col>hp</th><th scope=col>drat</th><th scope=col>wt</th><th scope=col>qsec</th><th scope=col>vs</th><th scope=col>am</th><th scope=col>gear</th><th scope=col>carb</th></tr></thead>\n",
       "<tbody>\n",
       "\t<tr><th scope=row>Porsche 914-2</th><td>26</td><td>4</td><td>120.3</td><td>91</td><td>4.43</td><td>2.14</td><td>16.7</td><td>0</td><td>1</td><td>5</td><td>2</td></tr>\n",
       "\t<tr><th scope=row>Lotus Europa</th><td>30.4</td><td>4</td><td>95.1</td><td>113</td><td>3.77</td><td>1.513</td><td>16.9</td><td>1</td><td>1</td><td>5</td><td>2</td></tr>\n",
       "\t<tr><th scope=row>Ford Pantera L</th><td>15.8</td><td>8</td><td>351</td><td>264</td><td>4.22</td><td>3.17</td><td>14.5</td><td>0</td><td>1</td><td>5</td><td>4</td></tr>\n",
       "\t<tr><th scope=row>Ferrari Dino</th><td>19.7</td><td>6</td><td>145</td><td>175</td><td>3.62</td><td>2.77</td><td>15.5</td><td>0</td><td>1</td><td>5</td><td>6</td></tr>\n",
       "\t<tr><th scope=row>Maserati Bora</th><td>15</td><td>8</td><td>301</td><td>335</td><td>3.54</td><td>3.57</td><td>14.6</td><td>0</td><td>1</td><td>5</td><td>8</td></tr>\n",
       "\t<tr><th scope=row>Volvo 142E</th><td>21.4</td><td>4</td><td>121</td><td>109</td><td>4.11</td><td>2.78</td><td>18.6</td><td>1</td><td>1</td><td>4</td><td>2</td></tr>\n",
       "</tbody>\n",
       "</table>\n"
      ],
      "text/latex": [
       "\\begin{tabular}{r|lllllllllll}\n",
       "  & mpg & cyl & disp & hp & drat & wt & qsec & vs & am & gear & carb\\\\\n",
       "\\hline\n",
       "\tPorsche 914-2 & 26 & 4 & 120.3 & 91 & 4.43 & 2.14 & 16.7 & 0 & 1 & 5 & 2\\\\\n",
       "\tLotus Europa & 30.4 & 4 & 95.1 & 113 & 3.77 & 1.513 & 16.9 & 1 & 1 & 5 & 2\\\\\n",
       "\tFord Pantera L & 15.8 & 8 & 351 & 264 & 4.22 & 3.17 & 14.5 & 0 & 1 & 5 & 4\\\\\n",
       "\tFerrari Dino & 19.7 & 6 & 145 & 175 & 3.62 & 2.77 & 15.5 & 0 & 1 & 5 & 6\\\\\n",
       "\tMaserati Bora & 15 & 8 & 301 & 335 & 3.54 & 3.57 & 14.6 & 0 & 1 & 5 & 8\\\\\n",
       "\tVolvo 142E & 21.4 & 4 & 121 & 109 & 4.11 & 2.78 & 18.6 & 1 & 1 & 4 & 2\\\\\n",
       "\\end{tabular}\n"
      ],
      "text/plain": [
       "                mpg cyl  disp  hp drat    wt qsec vs am gear carb\n",
       "Porsche 914-2  26.0   4 120.3  91 4.43 2.140 16.7  0  1    5    2\n",
       "Lotus Europa   30.4   4  95.1 113 3.77 1.513 16.9  1  1    5    2\n",
       "Ford Pantera L 15.8   8 351.0 264 4.22 3.170 14.5  0  1    5    4\n",
       "Ferrari Dino   19.7   6 145.0 175 3.62 2.770 15.5  0  1    5    6\n",
       "Maserati Bora  15.0   8 301.0 335 3.54 3.570 14.6  0  1    5    8\n",
       "Volvo 142E     21.4   4 121.0 109 4.11 2.780 18.6  1  1    4    2"
      ]
     },
     "execution_count": 76,
     "metadata": {},
     "output_type": "execute_result"
    }
   ],
   "source": [
    "# tail\n",
    "tail(mtcars)"
   ]
  },
  {
   "cell_type": "code",
   "execution_count": 77,
   "metadata": {
    "collapsed": false
   },
   "outputs": [
    {
     "name": "stdout",
     "output_type": "stream",
     "text": [
      "'data.frame':\t32 obs. of  11 variables:\n",
      " $ mpg : num  21 21 22.8 21.4 18.7 18.1 14.3 24.4 22.8 19.2 ...\n",
      " $ cyl : num  6 6 4 6 8 6 8 4 4 6 ...\n",
      " $ disp: num  160 160 108 258 360 ...\n",
      " $ hp  : num  110 110 93 110 175 105 245 62 95 123 ...\n",
      " $ drat: num  3.9 3.9 3.85 3.08 3.15 2.76 3.21 3.69 3.92 3.92 ...\n",
      " $ wt  : num  2.62 2.88 2.32 3.21 3.44 ...\n",
      " $ qsec: num  16.5 17 18.6 19.4 17 ...\n",
      " $ vs  : num  0 0 1 1 0 1 0 1 1 1 ...\n",
      " $ am  : num  1 1 1 0 0 0 0 0 0 0 ...\n",
      " $ gear: num  4 4 4 3 3 3 3 4 4 4 ...\n",
      " $ carb: num  4 4 1 1 2 1 4 2 2 4 ...\n"
     ]
    }
   ],
   "source": [
    "# Another way to get a quick glimpse of the data is to use the `str` function.\n",
    "str(mtcars)"
   ]
  },
  {
   "cell_type": "markdown",
   "metadata": {},
   "source": [
    "The `str` function, as you can see shows us some nice details. It tells us\n",
    "\n",
    "- The number of observations (rows) we have (`32`)\n",
    "- The number of variables (columns) in consideration (`11`)\n",
    "- Each of the column with their data type and the first few entries"
   ]
  },
  {
   "cell_type": "markdown",
   "metadata": {},
   "source": [
    "Another quick way to find out _just_ the number of rows and columns is to use the `nrow` and `ncol` functions"
   ]
  },
  {
   "cell_type": "code",
   "execution_count": 78,
   "metadata": {
    "collapsed": false
   },
   "outputs": [
    {
     "data": {
      "text/html": [
       "32"
      ],
      "text/latex": [
       "32"
      ],
      "text/markdown": [
       "32"
      ],
      "text/plain": [
       "[1] 32"
      ]
     },
     "execution_count": 78,
     "metadata": {},
     "output_type": "execute_result"
    }
   ],
   "source": [
    "# total number of rows\n",
    "nrow(mtcars)"
   ]
  },
  {
   "cell_type": "code",
   "execution_count": 79,
   "metadata": {
    "collapsed": false
   },
   "outputs": [
    {
     "data": {
      "text/html": [
       "11"
      ],
      "text/latex": [
       "11"
      ],
      "text/markdown": [
       "11"
      ],
      "text/plain": [
       "[1] 11"
      ]
     },
     "execution_count": 79,
     "metadata": {},
     "output_type": "execute_result"
    }
   ],
   "source": [
    "# total number of columns\n",
    "ncol(mtcars)"
   ]
  },
  {
   "cell_type": "markdown",
   "metadata": {},
   "source": [
    "### Creating Data Frames\n",
    "\n",
    "Let us create our own Data Frame to better understand their underlying concepts.\n",
    "\n",
    "Let's put together a bunch of vectors representing the different variables (columns) in our data frame "
   ]
  },
  {
   "cell_type": "code",
   "execution_count": 80,
   "metadata": {
    "collapsed": true
   },
   "outputs": [],
   "source": [
    "distance <- c(4.0, 5.2, 6.0, 5.2, 5.0, 6.0, 6.2, 6.0, 7.2, 7.5)\n",
    "time_taken <- c(20.5, 28.0, 40.2, 24.1, 26.0, 42.0, 43.2, 40.1, 50.2, 50.7)\n",
    "run_type <- c(\"S\", \"S\", \"E\", \"S\", \"S\", \"E\", \"E\", \"E\", \"E\", \"E\") # S is speed; E is endurance\n",
    "workout_after <- c(TRUE, FALSE, FALSE, FALSE, TRUE, TRUE, FALSE, FALSE, FALSE, FALSE)"
   ]
  },
  {
   "cell_type": "markdown",
   "metadata": {},
   "source": [
    "Now that we have 4 vectors, we can create a data frame from these 4 vectors using the `data.frame` function\n"
   ]
  },
  {
   "cell_type": "code",
   "execution_count": 84,
   "metadata": {
    "collapsed": true
   },
   "outputs": [],
   "source": [
    "running_df <- data.frame(distance, time_taken, run_type, workout_after, \n",
    "                        stringsAsFactors = FALSE)"
   ]
  },
  {
   "cell_type": "code",
   "execution_count": 85,
   "metadata": {
    "collapsed": false
   },
   "outputs": [
    {
     "data": {
      "text/html": [
       "<table>\n",
       "<thead><tr><th></th><th scope=col>distance</th><th scope=col>time_taken</th><th scope=col>run_type</th><th scope=col>workout_after</th></tr></thead>\n",
       "<tbody>\n",
       "\t<tr><th scope=row>1</th><td>4</td><td>20.5</td><td>S</td><td>TRUE</td></tr>\n",
       "\t<tr><th scope=row>2</th><td>5.2</td><td>28</td><td>S</td><td>FALSE</td></tr>\n",
       "\t<tr><th scope=row>3</th><td>6</td><td>40.2</td><td>E</td><td>FALSE</td></tr>\n",
       "\t<tr><th scope=row>4</th><td>5.2</td><td>24.1</td><td>S</td><td>FALSE</td></tr>\n",
       "\t<tr><th scope=row>5</th><td>5</td><td>26</td><td>S</td><td>TRUE</td></tr>\n",
       "\t<tr><th scope=row>6</th><td>6</td><td>42</td><td>E</td><td>TRUE</td></tr>\n",
       "\t<tr><th scope=row>7</th><td>6.2</td><td>43.2</td><td>E</td><td>FALSE</td></tr>\n",
       "\t<tr><th scope=row>8</th><td>6</td><td>40.1</td><td>E</td><td>FALSE</td></tr>\n",
       "\t<tr><th scope=row>9</th><td>7.2</td><td>50.2</td><td>E</td><td>FALSE</td></tr>\n",
       "\t<tr><th scope=row>10</th><td>7.5</td><td>50.7</td><td>E</td><td>FALSE</td></tr>\n",
       "</tbody>\n",
       "</table>\n"
      ],
      "text/latex": [
       "\\begin{tabular}{r|llll}\n",
       "  & distance & time_taken & run_type & workout_after\\\\\n",
       "\\hline\n",
       "\t1 & 4 & 20.5 & S & TRUE\\\\\n",
       "\t2 & 5.2 & 28 & S & FALSE\\\\\n",
       "\t3 & 6 & 40.2 & E & FALSE\\\\\n",
       "\t4 & 5.2 & 24.1 & S & FALSE\\\\\n",
       "\t5 & 5 & 26 & S & TRUE\\\\\n",
       "\t6 & 6 & 42 & E & TRUE\\\\\n",
       "\t7 & 6.2 & 43.2 & E & FALSE\\\\\n",
       "\t8 & 6 & 40.1 & E & FALSE\\\\\n",
       "\t9 & 7.2 & 50.2 & E & FALSE\\\\\n",
       "\t10 & 7.5 & 50.7 & E & FALSE\\\\\n",
       "\\end{tabular}\n"
      ],
      "text/plain": [
       "   distance time_taken run_type workout_after\n",
       "1       4.0       20.5        S          TRUE\n",
       "2       5.2       28.0        S         FALSE\n",
       "3       6.0       40.2        E         FALSE\n",
       "4       5.2       24.1        S         FALSE\n",
       "5       5.0       26.0        S          TRUE\n",
       "6       6.0       42.0        E          TRUE\n",
       "7       6.2       43.2        E         FALSE\n",
       "8       6.0       40.1        E         FALSE\n",
       "9       7.2       50.2        E         FALSE\n",
       "10      7.5       50.7        E         FALSE"
      ]
     },
     "execution_count": 85,
     "metadata": {},
     "output_type": "execute_result"
    }
   ],
   "source": [
    "# Lets print this to see what we get\n",
    "running_df"
   ]
  },
  {
   "cell_type": "markdown",
   "metadata": {},
   "source": [
    "Quite similar to the data frame we earlier saw with cars. Lets work with this!"
   ]
  },
  {
   "cell_type": "markdown",
   "metadata": {},
   "source": [
    "---\n",
    "\n",
    "### [ Exercise ]\n",
    "\n",
    "Use the `head`, `tail` and the `str` function to inspect the data frame we just created (`running.df`)"
   ]
  },
  {
   "cell_type": "code",
   "execution_count": 86,
   "metadata": {
    "collapsed": false
   },
   "outputs": [
    {
     "data": {
      "text/html": [
       "<table>\n",
       "<thead><tr><th></th><th scope=col>distance</th><th scope=col>time_taken</th><th scope=col>run_type</th><th scope=col>workout_after</th></tr></thead>\n",
       "<tbody>\n",
       "\t<tr><th scope=row>1</th><td>4</td><td>20.5</td><td>S</td><td>TRUE</td></tr>\n",
       "\t<tr><th scope=row>2</th><td>5.2</td><td>28</td><td>S</td><td>FALSE</td></tr>\n",
       "\t<tr><th scope=row>3</th><td>6</td><td>40.2</td><td>E</td><td>FALSE</td></tr>\n",
       "\t<tr><th scope=row>4</th><td>5.2</td><td>24.1</td><td>S</td><td>FALSE</td></tr>\n",
       "\t<tr><th scope=row>5</th><td>5</td><td>26</td><td>S</td><td>TRUE</td></tr>\n",
       "\t<tr><th scope=row>6</th><td>6</td><td>42</td><td>E</td><td>TRUE</td></tr>\n",
       "</tbody>\n",
       "</table>\n"
      ],
      "text/latex": [
       "\\begin{tabular}{r|llll}\n",
       "  & distance & time_taken & run_type & workout_after\\\\\n",
       "\\hline\n",
       "\t1 & 4 & 20.5 & S & TRUE\\\\\n",
       "\t2 & 5.2 & 28 & S & FALSE\\\\\n",
       "\t3 & 6 & 40.2 & E & FALSE\\\\\n",
       "\t4 & 5.2 & 24.1 & S & FALSE\\\\\n",
       "\t5 & 5 & 26 & S & TRUE\\\\\n",
       "\t6 & 6 & 42 & E & TRUE\\\\\n",
       "\\end{tabular}\n"
      ],
      "text/plain": [
       "  distance time_taken run_type workout_after\n",
       "1      4.0       20.5        S          TRUE\n",
       "2      5.2       28.0        S         FALSE\n",
       "3      6.0       40.2        E         FALSE\n",
       "4      5.2       24.1        S         FALSE\n",
       "5      5.0       26.0        S          TRUE\n",
       "6      6.0       42.0        E          TRUE"
      ]
     },
     "execution_count": 86,
     "metadata": {},
     "output_type": "execute_result"
    },
    {
     "data": {
      "text/html": [
       "<table>\n",
       "<thead><tr><th></th><th scope=col>distance</th><th scope=col>time_taken</th><th scope=col>run_type</th><th scope=col>workout_after</th></tr></thead>\n",
       "<tbody>\n",
       "\t<tr><th scope=row>5</th><td>5</td><td>26</td><td>S</td><td>TRUE</td></tr>\n",
       "\t<tr><th scope=row>6</th><td>6</td><td>42</td><td>E</td><td>TRUE</td></tr>\n",
       "\t<tr><th scope=row>7</th><td>6.2</td><td>43.2</td><td>E</td><td>FALSE</td></tr>\n",
       "\t<tr><th scope=row>8</th><td>6</td><td>40.1</td><td>E</td><td>FALSE</td></tr>\n",
       "\t<tr><th scope=row>9</th><td>7.2</td><td>50.2</td><td>E</td><td>FALSE</td></tr>\n",
       "\t<tr><th scope=row>10</th><td>7.5</td><td>50.7</td><td>E</td><td>FALSE</td></tr>\n",
       "</tbody>\n",
       "</table>\n"
      ],
      "text/latex": [
       "\\begin{tabular}{r|llll}\n",
       "  & distance & time_taken & run_type & workout_after\\\\\n",
       "\\hline\n",
       "\t5 & 5 & 26 & S & TRUE\\\\\n",
       "\t6 & 6 & 42 & E & TRUE\\\\\n",
       "\t7 & 6.2 & 43.2 & E & FALSE\\\\\n",
       "\t8 & 6 & 40.1 & E & FALSE\\\\\n",
       "\t9 & 7.2 & 50.2 & E & FALSE\\\\\n",
       "\t10 & 7.5 & 50.7 & E & FALSE\\\\\n",
       "\\end{tabular}\n"
      ],
      "text/plain": [
       "   distance time_taken run_type workout_after\n",
       "5       5.0       26.0        S          TRUE\n",
       "6       6.0       42.0        E          TRUE\n",
       "7       6.2       43.2        E         FALSE\n",
       "8       6.0       40.1        E         FALSE\n",
       "9       7.2       50.2        E         FALSE\n",
       "10      7.5       50.7        E         FALSE"
      ]
     },
     "execution_count": 86,
     "metadata": {},
     "output_type": "execute_result"
    },
    {
     "name": "stdout",
     "output_type": "stream",
     "text": [
      "'data.frame':\t10 obs. of  4 variables:\n",
      " $ distance     : num  4 5.2 6 5.2 5 6 6.2 6 7.2 7.5\n",
      " $ time_taken   : num  20.5 28 40.2 24.1 26 42 43.2 40.1 50.2 50.7\n",
      " $ run_type     : chr  \"S\" \"S\" \"E\" \"S\" ...\n",
      " $ workout_after: logi  TRUE FALSE FALSE FALSE TRUE TRUE ...\n"
     ]
    }
   ],
   "source": [
    "# Answer here\n",
    "head(running_df)\n",
    "tail(running_df)\n",
    "str(running_df)"
   ]
  },
  {
   "cell_type": "code",
   "execution_count": 87,
   "metadata": {
    "collapsed": false
   },
   "outputs": [
    {
     "data": {
      "text/html": [
       "\n",
       "<table width=\"100%\" summary=\"page for data.frame {base}\"><tr><td>data.frame {base}</td><td style=\"text-align: right;\">R Documentation</td></tr></table>\n",
       "\n",
       "<h2>Data Frames</h2>\n",
       "\n",
       "<h3>Description</h3>\n",
       "\n",
       "<p>This function creates data frames, tightly coupled\n",
       "collections of variables which share many of the properties of\n",
       "matrices and of lists, used as the fundamental data structure by most\n",
       "of <span style=\"font-family: Courier New, Courier; color: #666666;\"><b>R</b></span>'s modeling software.\n",
       "</p>\n",
       "\n",
       "\n",
       "<h3>Usage</h3>\n",
       "\n",
       "<pre>\n",
       "data.frame(..., row.names = NULL, check.rows = FALSE,\n",
       "           check.names = TRUE,\n",
       "           stringsAsFactors = default.stringsAsFactors())\n",
       "\n",
       "default.stringsAsFactors()\n",
       "</pre>\n",
       "\n",
       "\n",
       "<h3>Arguments</h3>\n",
       "\n",
       "<table summary=\"R argblock\">\n",
       "<tr valign=\"top\"><td><code>...</code></td>\n",
       "<td>\n",
       "<p>these arguments are of either the form <code>value</code> or\n",
       "<code>tag = value</code>.  Component names are created based on the tag (if\n",
       "present) or the deparsed argument itself.</p>\n",
       "</td></tr>\n",
       "<tr valign=\"top\"><td><code>row.names</code></td>\n",
       "<td>\n",
       "<p><code>NULL</code> or a single integer or character string\n",
       "specifying a column to be used as row names, or a character or\n",
       "integer vector giving the row names for the data frame.</p>\n",
       "</td></tr>\n",
       "<tr valign=\"top\"><td><code>check.rows</code></td>\n",
       "<td>\n",
       "<p>if <code>TRUE</code> then the rows are checked for\n",
       "consistency of length and names.</p>\n",
       "</td></tr>\n",
       "<tr valign=\"top\"><td><code>check.names</code></td>\n",
       "<td>\n",
       "<p>logical.  If <code>TRUE</code> then the names of the\n",
       "variables in the data frame are checked to ensure that they are\n",
       "syntactically valid variable names and are not duplicated.\n",
       "If necessary they are adjusted (by <code>make.names</code>)\n",
       "so that they are.</p>\n",
       "</td></tr>\n",
       "<tr valign=\"top\"><td><code>stringsAsFactors</code></td>\n",
       "<td>\n",
       "<p>logical: should character vectors be converted\n",
       "to factors?  The &lsquo;factory-fresh&rsquo; default is <code>TRUE</code>, but\n",
       "this can be changed by setting <code>options(stringsAsFactors\n",
       "      = FALSE)</code>.</p>\n",
       "</td></tr>\n",
       "</table>\n",
       "\n",
       "\n",
       "<h3>Details</h3>\n",
       "\n",
       "<p>A data frame is a list of variables of the same number of rows with\n",
       "unique row names, given class <code>\"data.frame\"</code>.  If no variables\n",
       "are included, the row names determine the number of rows.\n",
       "</p>\n",
       "<p>The column names should be non-empty, and attempts to use empty names\n",
       "will have unsupported results.  Duplicate column names are allowed,\n",
       "but you need to use <code>check.names = FALSE</code> for <code>data.frame</code>\n",
       "to generate such a data frame.  However, not all operations on data\n",
       "frames will preserve duplicated column names: for example matrix-like\n",
       "subsetting will force column names in the result to be unique.\n",
       "</p>\n",
       "<p><code>data.frame</code> converts each of its arguments to a data frame by\n",
       "calling <code>as.data.frame(optional = TRUE)</code>.  As that is a\n",
       "generic function, methods can be written to change the behaviour of\n",
       "arguments according to their classes: <span style=\"font-family: Courier New, Courier; color: #666666;\"><b>R</b></span> comes with many such methods.\n",
       "Character variables passed to <code>data.frame</code> are converted to\n",
       "factor columns unless protected by <code>I</code> or argument\n",
       "<code>stringsAsFactors</code> is false.  If a list or data\n",
       "frame or matrix is passed to <code>data.frame</code> it is as if each\n",
       "component or column had been passed as a separate argument (except for\n",
       "matrices of class <code>\"model.matrix\"</code> and those protected by\n",
       "<code>I</code>).\n",
       "</p>\n",
       "<p>Objects passed to <code>data.frame</code> should have the same number of\n",
       "rows, but atomic vectors (see <code>is.vector</code>), factors and\n",
       "character vectors protected by <code>I</code> will be recycled a\n",
       "whole number of times if necessary (including as elements of list\n",
       "arguments).\n",
       "</p>\n",
       "<p>If row names are not supplied in the call to <code>data.frame</code>, the\n",
       "row names are taken from the first component that has suitable names,\n",
       "for example a named vector or a matrix with rownames or a data frame.\n",
       "(If that component is subsequently recycled, the names are discarded\n",
       "with a warning.)  If <code>row.names</code> was supplied as <code>NULL</code> or no\n",
       "suitable component was found the row names are the integer sequence\n",
       "starting at one (and such row names are considered to be\n",
       "&lsquo;automatic&rsquo;, and not preserved by <code>as.matrix</code>).\n",
       "</p>\n",
       "<p>If row names are supplied of length one and the data frame has a\n",
       "single row, the <code>row.names</code> is taken to specify the row names and\n",
       "not a column (by name or number).\n",
       "</p>\n",
       "<p>Names are removed from vector inputs not protected by <code>I</code>.\n",
       "</p>\n",
       "<p><code>default.stringsAsFactors</code> is a utility that takes\n",
       "<code>getOption(\"stringsAsFactors\")</code> and ensures the result is\n",
       "<code>TRUE</code> or <code>FALSE</code> (or throws an error if the value is not\n",
       "<code>NULL</code>).\n",
       "</p>\n",
       "\n",
       "\n",
       "<h3>Value</h3>\n",
       "\n",
       "<p>A data frame, a matrix-like structure whose columns may be of\n",
       "differing types (numeric, logical, factor and character and so on).\n",
       "</p>\n",
       "<p>How the names of the data frame are created is complex, and the rest\n",
       "of this paragraph is only the basic story.  If the arguments are all\n",
       "named and simple objects (not lists, matrices of data frames) then the\n",
       "argument names give the column names.  For an unnamed simple argument,\n",
       "a deparsed version of the argument is used as the name (with an\n",
       "enclosing <code>I(...)</code> removed).  For a named matrix/list/data frame\n",
       "argument with more than one named column, the names of the columns are\n",
       "the name of the argument followed by a dot and the column name inside\n",
       "the argument: if the argument is unnamed, the argument's column names\n",
       "are used.  For a named or unnamed matrix/list/data frame argument that\n",
       "contains a single column, the column name in the result is the column\n",
       "name in the argument.  Finally, the names are adjusted to be unique\n",
       "and syntactically valid unless <code>check.names = FALSE</code>.\n",
       "</p>\n",
       "\n",
       "\n",
       "<h3>Note</h3>\n",
       "\n",
       "<p>In versions of <span style=\"font-family: Courier New, Courier; color: #666666;\"><b>R</b></span> prior to 2.4.0 <code>row.names</code> had to be\n",
       "character: to ensure compatibility with such versions of <span style=\"font-family: Courier New, Courier; color: #666666;\"><b>R</b></span>, supply\n",
       "a character vector as the <code>row.names</code> argument.\n",
       "</p>\n",
       "\n",
       "\n",
       "<h3>References</h3>\n",
       "\n",
       "<p>Chambers, J. M. (1992)\n",
       "<em>Data for models.</em>\n",
       "Chapter 3 of <em>Statistical Models in S</em>\n",
       "eds J. M. Chambers and T. J. Hastie, Wadsworth &amp; Brooks/Cole.\n",
       "</p>\n",
       "\n",
       "\n",
       "<h3>See Also</h3>\n",
       "\n",
       "<p><code>I</code>,\n",
       "<code>plot.data.frame</code>,\n",
       "<code>print.data.frame</code>,\n",
       "<code>row.names</code>, <code>names</code> (for the column names),\n",
       "<code>[.data.frame</code> for subsetting methods,\n",
       "<code>Math.data.frame</code> etc, about\n",
       "<em>Group</em> methods for <code>data.frame</code>s;\n",
       "<code>read.table</code>,\n",
       "<code>make.names</code>.\n",
       "</p>\n",
       "\n",
       "\n",
       "<h3>Examples</h3>\n",
       "\n",
       "<pre>\n",
       "L3 &lt;- LETTERS[1:3]\n",
       "fac &lt;- sample(L3, 10, replace = TRUE)\n",
       "(d &lt;- data.frame(x = 1, y = 1:10, fac = fac))\n",
       "## The \"same\" with automatic column names:\n",
       "data.frame(1, 1:10, sample(L3, 10, replace = TRUE))\n",
       "\n",
       "is.data.frame(d)\n",
       "\n",
       "## do not convert to factor, using I() :\n",
       "(dd &lt;- cbind(d, char = I(letters[1:10])))\n",
       "rbind(class = sapply(dd, class), mode = sapply(dd, mode))\n",
       "\n",
       "stopifnot(1:10 == row.names(d))  # {coercion}\n",
       "\n",
       "(d0  &lt;- d[, FALSE])   # data frame with 0 columns and 10 rows\n",
       "(d.0 &lt;- d[FALSE, ])   # &lt;0 rows&gt; data frame  (3 named cols)\n",
       "(d00 &lt;- d0[FALSE, ])  # data frame with 0 columns and 0 rows\n",
       "</pre>\n",
       "\n",
       "<hr /><div style=\"text-align: center;\">[Package <em>base</em> version 3.2.4 ]</div>"
      ],
      "text/latex": [
       "\\inputencoding{utf8}\n",
       "\\HeaderA{data.frame}{Data Frames}{data.frame}\n",
       "\\aliasA{default.stringsAsFactors}{data.frame}{default.stringsAsFactors}\n",
       "\\keyword{classes}{data.frame}\n",
       "\\keyword{methods}{data.frame}\n",
       "%\n",
       "\\begin{Description}\\relax\n",
       "This function creates data frames, tightly coupled\n",
       "collections of variables which share many of the properties of\n",
       "matrices and of lists, used as the fundamental data structure by most\n",
       "of \\R{}'s modeling software.\n",
       "\\end{Description}\n",
       "%\n",
       "\\begin{Usage}\n",
       "\\begin{verbatim}\n",
       "data.frame(..., row.names = NULL, check.rows = FALSE,\n",
       "           check.names = TRUE,\n",
       "           stringsAsFactors = default.stringsAsFactors())\n",
       "\n",
       "default.stringsAsFactors()\n",
       "\\end{verbatim}\n",
       "\\end{Usage}\n",
       "%\n",
       "\\begin{Arguments}\n",
       "\\begin{ldescription}\n",
       "\\item[\\code{...}] these arguments are of either the form \\code{value} or\n",
       "\\code{tag = value}.  Component names are created based on the tag (if\n",
       "present) or the deparsed argument itself.\n",
       "\\item[\\code{row.names}] \\code{NULL} or a single integer or character string\n",
       "specifying a column to be used as row names, or a character or\n",
       "integer vector giving the row names for the data frame.\n",
       "\\item[\\code{check.rows}] if \\code{TRUE} then the rows are checked for\n",
       "consistency of length and names.\n",
       "\\item[\\code{check.names}] logical.  If \\code{TRUE} then the names of the\n",
       "variables in the data frame are checked to ensure that they are\n",
       "syntactically valid variable names and are not duplicated.\n",
       "If necessary they are adjusted (by \\code{\\LinkA{make.names}{make.names}})\n",
       "so that they are.\n",
       "\\item[\\code{stringsAsFactors}] logical: should character vectors be converted\n",
       "to factors?  The `factory-fresh' default is \\code{TRUE}, but\n",
       "this can be changed by setting \\code{\\LinkA{options}{options}(stringsAsFactors\n",
       "      = FALSE)}.\n",
       "\\end{ldescription}\n",
       "\\end{Arguments}\n",
       "%\n",
       "\\begin{Details}\\relax\n",
       "A data frame is a list of variables of the same number of rows with\n",
       "unique row names, given class \\code{\"data.frame\"}.  If no variables\n",
       "are included, the row names determine the number of rows.\n",
       "\n",
       "The column names should be non-empty, and attempts to use empty names\n",
       "will have unsupported results.  Duplicate column names are allowed,\n",
       "but you need to use \\code{check.names = FALSE} for \\code{data.frame}\n",
       "to generate such a data frame.  However, not all operations on data\n",
       "frames will preserve duplicated column names: for example matrix-like\n",
       "subsetting will force column names in the result to be unique.\n",
       "\n",
       "\\code{data.frame} converts each of its arguments to a data frame by\n",
       "calling \\code{\\LinkA{as.data.frame}{as.data.frame}(optional = TRUE)}.  As that is a\n",
       "generic function, methods can be written to change the behaviour of\n",
       "arguments according to their classes: \\R{} comes with many such methods.\n",
       "Character variables passed to \\code{data.frame} are converted to\n",
       "factor columns unless protected by \\code{\\LinkA{I}{I}} or argument\n",
       "\\code{stringsAsFactors} is false.  If a list or data\n",
       "frame or matrix is passed to \\code{data.frame} it is as if each\n",
       "component or column had been passed as a separate argument (except for\n",
       "matrices of class \\code{\"\\LinkA{model.matrix}{model.matrix}\"} and those protected by\n",
       "\\code{\\LinkA{I}{I}}).\n",
       "\n",
       "Objects passed to \\code{data.frame} should have the same number of\n",
       "rows, but atomic vectors (see \\code{\\LinkA{is.vector}{is.vector}}), factors and\n",
       "character vectors protected by \\code{\\LinkA{I}{I}} will be recycled a\n",
       "whole number of times if necessary (including as elements of list\n",
       "arguments).\n",
       "\n",
       "If row names are not supplied in the call to \\code{data.frame}, the\n",
       "row names are taken from the first component that has suitable names,\n",
       "for example a named vector or a matrix with rownames or a data frame.\n",
       "(If that component is subsequently recycled, the names are discarded\n",
       "with a warning.)  If \\code{row.names} was supplied as \\code{NULL} or no\n",
       "suitable component was found the row names are the integer sequence\n",
       "starting at one (and such row names are considered to be\n",
       "`automatic', and not preserved by \\code{\\LinkA{as.matrix}{as.matrix}}).\n",
       "\n",
       "If row names are supplied of length one and the data frame has a\n",
       "single row, the \\code{row.names} is taken to specify the row names and\n",
       "not a column (by name or number).\n",
       "\n",
       "Names are removed from vector inputs not protected by \\code{\\LinkA{I}{I}}.\n",
       "\n",
       "\\code{default.stringsAsFactors} is a utility that takes\n",
       "\\code{\\LinkA{getOption}{getOption}(\"stringsAsFactors\")} and ensures the result is\n",
       "\\code{TRUE} or \\code{FALSE} (or throws an error if the value is not\n",
       "\\code{NULL}).\n",
       "\\end{Details}\n",
       "%\n",
       "\\begin{Value}\n",
       "A data frame, a matrix-like structure whose columns may be of\n",
       "differing types (numeric, logical, factor and character and so on).\n",
       "\n",
       "How the names of the data frame are created is complex, and the rest\n",
       "of this paragraph is only the basic story.  If the arguments are all\n",
       "named and simple objects (not lists, matrices of data frames) then the\n",
       "argument names give the column names.  For an unnamed simple argument,\n",
       "a deparsed version of the argument is used as the name (with an\n",
       "enclosing \\code{I(...)} removed).  For a named matrix/list/data frame\n",
       "argument with more than one named column, the names of the columns are\n",
       "the name of the argument followed by a dot and the column name inside\n",
       "the argument: if the argument is unnamed, the argument's column names\n",
       "are used.  For a named or unnamed matrix/list/data frame argument that\n",
       "contains a single column, the column name in the result is the column\n",
       "name in the argument.  Finally, the names are adjusted to be unique\n",
       "and syntactically valid unless \\code{check.names = FALSE}.\n",
       "\\end{Value}\n",
       "%\n",
       "\\begin{Note}\\relax\n",
       "In versions of \\R{} prior to 2.4.0 \\code{row.names} had to be\n",
       "character: to ensure compatibility with such versions of \\R{}, supply\n",
       "a character vector as the \\code{row.names} argument.\n",
       "\\end{Note}\n",
       "%\n",
       "\\begin{References}\\relax\n",
       "Chambers, J. M. (1992)\n",
       "\\emph{Data for models.}\n",
       "Chapter 3 of \\emph{Statistical Models in S}\n",
       "eds J. M. Chambers and T. J. Hastie, Wadsworth \\& Brooks/Cole.\n",
       "\\end{References}\n",
       "%\n",
       "\\begin{SeeAlso}\\relax\n",
       "\\code{\\LinkA{I}{I}},\n",
       "\\code{\\LinkA{plot.data.frame}{plot.data.frame}},\n",
       "\\code{\\LinkA{print.data.frame}{print.data.frame}},\n",
       "\\code{\\LinkA{row.names}{row.names}}, \\code{\\LinkA{names}{names}} (for the column names),\n",
       "\\code{\\LinkA{[.data.frame}{[.data.frame}} for subsetting methods,\n",
       "\\code{\\LinkA{Math.data.frame}{Math.data.frame}} etc, about\n",
       "\\emph{Group} methods for \\code{data.frame}s;\n",
       "\\code{\\LinkA{read.table}{read.table}},\n",
       "\\code{\\LinkA{make.names}{make.names}}.\n",
       "\\end{SeeAlso}\n",
       "%\n",
       "\\begin{Examples}\n",
       "\\begin{ExampleCode}\n",
       "L3 <- LETTERS[1:3]\n",
       "fac <- sample(L3, 10, replace = TRUE)\n",
       "(d <- data.frame(x = 1, y = 1:10, fac = fac))\n",
       "## The \"same\" with automatic column names:\n",
       "data.frame(1, 1:10, sample(L3, 10, replace = TRUE))\n",
       "\n",
       "is.data.frame(d)\n",
       "\n",
       "## do not convert to factor, using I() :\n",
       "(dd <- cbind(d, char = I(letters[1:10])))\n",
       "rbind(class = sapply(dd, class), mode = sapply(dd, mode))\n",
       "\n",
       "stopifnot(1:10 == row.names(d))  # {coercion}\n",
       "\n",
       "(d0  <- d[, FALSE])   # data frame with 0 columns and 10 rows\n",
       "(d.0 <- d[FALSE, ])   # <0 rows> data frame  (3 named cols)\n",
       "(d00 <- d0[FALSE, ])  # data frame with 0 columns and 0 rows\n",
       "\\end{ExampleCode}\n",
       "\\end{Examples}"
      ],
      "text/plain": [
       "data.frame                package:base                 R Documentation\n",
       "\n",
       "_\bD_\ba_\bt_\ba _\bF_\br_\ba_\bm_\be_\bs\n",
       "\n",
       "_\bD_\be_\bs_\bc_\br_\bi_\bp_\bt_\bi_\bo_\bn:\n",
       "\n",
       "     This function creates data frames, tightly coupled collections of\n",
       "     variables which share many of the properties of matrices and of\n",
       "     lists, used as the fundamental data structure by most of R's\n",
       "     modeling software.\n",
       "\n",
       "_\bU_\bs_\ba_\bg_\be:\n",
       "\n",
       "     data.frame(..., row.names = NULL, check.rows = FALSE,\n",
       "                check.names = TRUE,\n",
       "                stringsAsFactors = default.stringsAsFactors())\n",
       "     \n",
       "     default.stringsAsFactors()\n",
       "     \n",
       "_\bA_\br_\bg_\bu_\bm_\be_\bn_\bt_\bs:\n",
       "\n",
       "     ...: these arguments are of either the form 'value' or 'tag =\n",
       "          value'.  Component names are created based on the tag (if\n",
       "          present) or the deparsed argument itself.\n",
       "\n",
       "row.names: 'NULL' or a single integer or character string specifying a\n",
       "          column to be used as row names, or a character or integer\n",
       "          vector giving the row names for the data frame.\n",
       "\n",
       "check.rows: if 'TRUE' then the rows are checked for consistency of\n",
       "          length and names.\n",
       "\n",
       "check.names: logical.  If 'TRUE' then the names of the variables in the\n",
       "          data frame are checked to ensure that they are syntactically\n",
       "          valid variable names and are not duplicated.  If necessary\n",
       "          they are adjusted (by 'make.names') so that they are.\n",
       "\n",
       "stringsAsFactors: logical: should character vectors be converted to\n",
       "          factors?  The 'factory-fresh' default is 'TRUE', but this can\n",
       "          be changed by setting 'options(stringsAsFactors = FALSE)'.\n",
       "\n",
       "_\bD_\be_\bt_\ba_\bi_\bl_\bs:\n",
       "\n",
       "     A data frame is a list of variables of the same number of rows\n",
       "     with unique row names, given class '\"data.frame\"'.  If no\n",
       "     variables are included, the row names determine the number of\n",
       "     rows.\n",
       "\n",
       "     The column names should be non-empty, and attempts to use empty\n",
       "     names will have unsupported results.  Duplicate column names are\n",
       "     allowed, but you need to use 'check.names = FALSE' for\n",
       "     'data.frame' to generate such a data frame.  However, not all\n",
       "     operations on data frames will preserve duplicated column names:\n",
       "     for example matrix-like subsetting will force column names in the\n",
       "     result to be unique.\n",
       "\n",
       "     'data.frame' converts each of its arguments to a data frame by\n",
       "     calling 'as.data.frame(optional = TRUE)'.  As that is a generic\n",
       "     function, methods can be written to change the behaviour of\n",
       "     arguments according to their classes: R comes with many such\n",
       "     methods.  Character variables passed to 'data.frame' are converted\n",
       "     to factor columns unless protected by 'I' or argument\n",
       "     'stringsAsFactors' is false.  If a list or data frame or matrix is\n",
       "     passed to 'data.frame' it is as if each component or column had\n",
       "     been passed as a separate argument (except for matrices of class\n",
       "     '\"model.matrix\"' and those protected by 'I').\n",
       "\n",
       "     Objects passed to 'data.frame' should have the same number of\n",
       "     rows, but atomic vectors (see 'is.vector'), factors and character\n",
       "     vectors protected by 'I' will be recycled a whole number of times\n",
       "     if necessary (including as elements of list arguments).\n",
       "\n",
       "     If row names are not supplied in the call to 'data.frame', the row\n",
       "     names are taken from the first component that has suitable names,\n",
       "     for example a named vector or a matrix with rownames or a data\n",
       "     frame.  (If that component is subsequently recycled, the names are\n",
       "     discarded with a warning.)  If 'row.names' was supplied as 'NULL'\n",
       "     or no suitable component was found the row names are the integer\n",
       "     sequence starting at one (and such row names are considered to be\n",
       "     'automatic', and not preserved by 'as.matrix').\n",
       "\n",
       "     If row names are supplied of length one and the data frame has a\n",
       "     single row, the 'row.names' is taken to specify the row names and\n",
       "     not a column (by name or number).\n",
       "\n",
       "     Names are removed from vector inputs not protected by 'I'.\n",
       "\n",
       "     'default.stringsAsFactors' is a utility that takes\n",
       "     'getOption(\"stringsAsFactors\")' and ensures the result is 'TRUE'\n",
       "     or 'FALSE' (or throws an error if the value is not 'NULL').\n",
       "\n",
       "_\bV_\ba_\bl_\bu_\be:\n",
       "\n",
       "     A data frame, a matrix-like structure whose columns may be of\n",
       "     differing types (numeric, logical, factor and character and so\n",
       "     on).\n",
       "\n",
       "     How the names of the data frame are created is complex, and the\n",
       "     rest of this paragraph is only the basic story.  If the arguments\n",
       "     are all named and simple objects (not lists, matrices of data\n",
       "     frames) then the argument names give the column names.  For an\n",
       "     unnamed simple argument, a deparsed version of the argument is\n",
       "     used as the name (with an enclosing 'I(...)' removed).  For a\n",
       "     named matrix/list/data frame argument with more than one named\n",
       "     column, the names of the columns are the name of the argument\n",
       "     followed by a dot and the column name inside the argument: if the\n",
       "     argument is unnamed, the argument's column names are used.  For a\n",
       "     named or unnamed matrix/list/data frame argument that contains a\n",
       "     single column, the column name in the result is the column name in\n",
       "     the argument.  Finally, the names are adjusted to be unique and\n",
       "     syntactically valid unless 'check.names = FALSE'.\n",
       "\n",
       "_\bN_\bo_\bt_\be:\n",
       "\n",
       "     In versions of R prior to 2.4.0 'row.names' had to be character:\n",
       "     to ensure compatibility with such versions of R, supply a\n",
       "     character vector as the 'row.names' argument.\n",
       "\n",
       "_\bR_\be_\bf_\be_\br_\be_\bn_\bc_\be_\bs:\n",
       "\n",
       "     Chambers, J. M. (1992) _Data for models._ Chapter 3 of\n",
       "     _Statistical Models in S_ eds J. M. Chambers and T. J. Hastie,\n",
       "     Wadsworth & Brooks/Cole.\n",
       "\n",
       "_\bS_\be_\be _\bA_\bl_\bs_\bo:\n",
       "\n",
       "     'I', 'plot.data.frame', 'print.data.frame', 'row.names', 'names'\n",
       "     (for the column names), '[.data.frame' for subsetting methods,\n",
       "     'Math.data.frame' etc, about _Group_ methods for 'data.frame's;\n",
       "     'read.table', 'make.names'.\n",
       "\n",
       "_\bE_\bx_\ba_\bm_\bp_\bl_\be_\bs:\n",
       "\n",
       "     L3 <- LETTERS[1:3]\n",
       "     fac <- sample(L3, 10, replace = TRUE)\n",
       "     (d <- data.frame(x = 1, y = 1:10, fac = fac))\n",
       "     ## The \"same\" with automatic column names:\n",
       "     data.frame(1, 1:10, sample(L3, 10, replace = TRUE))\n",
       "     \n",
       "     is.data.frame(d)\n",
       "     \n",
       "     ## do not convert to factor, using I() :\n",
       "     (dd <- cbind(d, char = I(letters[1:10])))\n",
       "     rbind(class = sapply(dd, class), mode = sapply(dd, mode))\n",
       "     \n",
       "     stopifnot(1:10 == row.names(d))  # {coercion}\n",
       "     \n",
       "     (d0  <- d[, FALSE])   # data frame with 0 columns and 10 rows\n",
       "     (d.0 <- d[FALSE, ])   # <0 rows> data frame  (3 named cols)\n",
       "     (d00 <- d0[FALSE, ])  # data frame with 0 columns and 0 rows\n",
       "     "
      ]
     },
     "execution_count": 87,
     "metadata": {},
     "output_type": "execute_result"
    }
   ],
   "source": [
    "?data.frame"
   ]
  },
  {
   "cell_type": "markdown",
   "metadata": {},
   "source": [
    "---"
   ]
  },
  {
   "cell_type": "markdown",
   "metadata": {},
   "source": [
    "**Note:** When you run `str` on the data frame, notice that the `run_type` column has automatically been interpreted as a `Factor` type."
   ]
  },
  {
   "cell_type": "markdown",
   "metadata": {},
   "source": [
    "### Selecting elements"
   ]
  },
  {
   "cell_type": "markdown",
   "metadata": {},
   "source": [
    "Rows and columns can be selected from the data frame by similar methods as followed in vectors. I.e. using `[` and `]`\n",
    "\n",
    "Within `[` and `]` there are 2 parts - The row part and the column part separated by a comma (`,`)"
   ]
  },
  {
   "cell_type": "code",
   "execution_count": 89,
   "metadata": {
    "collapsed": false
   },
   "outputs": [
    {
     "data": {
      "text/html": [
       "FALSE"
      ],
      "text/latex": [
       "FALSE"
      ],
      "text/markdown": [
       "FALSE"
      ],
      "text/plain": [
       "[1] FALSE"
      ]
     },
     "execution_count": 89,
     "metadata": {},
     "output_type": "execute_result"
    },
    {
     "data": {
      "text/html": [
       "<table>\n",
       "<thead><tr><th></th><th scope=col>distance</th><th scope=col>time_taken</th><th scope=col>run_type</th><th scope=col>workout_after</th></tr></thead>\n",
       "<tbody>\n",
       "\t<tr><th scope=row>1</th><td>4</td><td>20.5</td><td>S</td><td>TRUE</td></tr>\n",
       "\t<tr><th scope=row>2</th><td>5.2</td><td>28</td><td>S</td><td>FALSE</td></tr>\n",
       "\t<tr><th scope=row>3</th><td>6</td><td>40.2</td><td>E</td><td>FALSE</td></tr>\n",
       "\t<tr><th scope=row>4</th><td>5.2</td><td>24.1</td><td>S</td><td>FALSE</td></tr>\n",
       "\t<tr><th scope=row>5</th><td>5</td><td>26</td><td>S</td><td>TRUE</td></tr>\n",
       "\t<tr><th scope=row>6</th><td>6</td><td>42</td><td>E</td><td>TRUE</td></tr>\n",
       "\t<tr><th scope=row>7</th><td>6.2</td><td>43.2</td><td>E</td><td>FALSE</td></tr>\n",
       "\t<tr><th scope=row>8</th><td>6</td><td>40.1</td><td>E</td><td>FALSE</td></tr>\n",
       "\t<tr><th scope=row>9</th><td>7.2</td><td>50.2</td><td>E</td><td>FALSE</td></tr>\n",
       "\t<tr><th scope=row>10</th><td>7.5</td><td>50.7</td><td>E</td><td>FALSE</td></tr>\n",
       "</tbody>\n",
       "</table>\n"
      ],
      "text/latex": [
       "\\begin{tabular}{r|llll}\n",
       "  & distance & time_taken & run_type & workout_after\\\\\n",
       "\\hline\n",
       "\t1 & 4 & 20.5 & S & TRUE\\\\\n",
       "\t2 & 5.2 & 28 & S & FALSE\\\\\n",
       "\t3 & 6 & 40.2 & E & FALSE\\\\\n",
       "\t4 & 5.2 & 24.1 & S & FALSE\\\\\n",
       "\t5 & 5 & 26 & S & TRUE\\\\\n",
       "\t6 & 6 & 42 & E & TRUE\\\\\n",
       "\t7 & 6.2 & 43.2 & E & FALSE\\\\\n",
       "\t8 & 6 & 40.1 & E & FALSE\\\\\n",
       "\t9 & 7.2 & 50.2 & E & FALSE\\\\\n",
       "\t10 & 7.5 & 50.7 & E & FALSE\\\\\n",
       "\\end{tabular}\n"
      ],
      "text/plain": [
       "   distance time_taken run_type workout_after\n",
       "1       4.0       20.5        S          TRUE\n",
       "2       5.2       28.0        S         FALSE\n",
       "3       6.0       40.2        E         FALSE\n",
       "4       5.2       24.1        S         FALSE\n",
       "5       5.0       26.0        S          TRUE\n",
       "6       6.0       42.0        E          TRUE\n",
       "7       6.2       43.2        E         FALSE\n",
       "8       6.0       40.1        E         FALSE\n",
       "9       7.2       50.2        E         FALSE\n",
       "10      7.5       50.7        E         FALSE"
      ]
     },
     "execution_count": 89,
     "metadata": {},
     "output_type": "execute_result"
    }
   ],
   "source": [
    "# Let us pick up the value in the 4th column, 2nd row\n",
    "running_df[2, 4]\n",
    "running_df"
   ]
  },
  {
   "cell_type": "markdown",
   "metadata": {},
   "source": [
    "---\n",
    "\n",
    "### [ Exercise ]\n",
    "\n",
    "- The row and column part, much like vector element selector allows for use of the `range` operator (`:`). Select columns 1-2 for rows 5-9  "
   ]
  },
  {
   "cell_type": "code",
   "execution_count": 90,
   "metadata": {
    "collapsed": false
   },
   "outputs": [
    {
     "data": {
      "text/html": [
       "<table>\n",
       "<thead><tr><th></th><th scope=col>distance</th><th scope=col>time_taken</th></tr></thead>\n",
       "<tbody>\n",
       "\t<tr><th scope=row>5</th><td>5</td><td>26</td></tr>\n",
       "\t<tr><th scope=row>6</th><td>6</td><td>42</td></tr>\n",
       "\t<tr><th scope=row>7</th><td>6.2</td><td>43.2</td></tr>\n",
       "\t<tr><th scope=row>8</th><td>6</td><td>40.1</td></tr>\n",
       "\t<tr><th scope=row>9</th><td>7.2</td><td>50.2</td></tr>\n",
       "</tbody>\n",
       "</table>\n"
      ],
      "text/latex": [
       "\\begin{tabular}{r|ll}\n",
       "  & distance & time_taken\\\\\n",
       "\\hline\n",
       "\t5 & 5 & 26\\\\\n",
       "\t6 & 6 & 42\\\\\n",
       "\t7 & 6.2 & 43.2\\\\\n",
       "\t8 & 6 & 40.1\\\\\n",
       "\t9 & 7.2 & 50.2\\\\\n",
       "\\end{tabular}\n"
      ],
      "text/plain": [
       "  distance time_taken\n",
       "5      5.0       26.0\n",
       "6      6.0       42.0\n",
       "7      6.2       43.2\n",
       "8      6.0       40.1\n",
       "9      7.2       50.2"
      ]
     },
     "execution_count": 90,
     "metadata": {},
     "output_type": "execute_result"
    }
   ],
   "source": [
    "# Answer here\n",
    "running_df[5:9, 1:2]"
   ]
  },
  {
   "cell_type": "markdown",
   "metadata": {},
   "source": [
    "R also makes it possible to omit one part of the 2 parts inside `[` and `]`. The separator is mandatory though. So now"
   ]
  },
  {
   "cell_type": "markdown",
   "metadata": {},
   "source": [
    "- Select columns 1-2 for all rows     "
   ]
  },
  {
   "cell_type": "code",
   "execution_count": 91,
   "metadata": {
    "collapsed": false
   },
   "outputs": [
    {
     "data": {
      "text/html": [
       "<table>\n",
       "<thead><tr><th></th><th scope=col>distance</th><th scope=col>time_taken</th></tr></thead>\n",
       "<tbody>\n",
       "\t<tr><th scope=row>1</th><td>4</td><td>20.5</td></tr>\n",
       "\t<tr><th scope=row>2</th><td>5.2</td><td>28</td></tr>\n",
       "\t<tr><th scope=row>3</th><td>6</td><td>40.2</td></tr>\n",
       "\t<tr><th scope=row>4</th><td>5.2</td><td>24.1</td></tr>\n",
       "\t<tr><th scope=row>5</th><td>5</td><td>26</td></tr>\n",
       "\t<tr><th scope=row>6</th><td>6</td><td>42</td></tr>\n",
       "\t<tr><th scope=row>7</th><td>6.2</td><td>43.2</td></tr>\n",
       "\t<tr><th scope=row>8</th><td>6</td><td>40.1</td></tr>\n",
       "\t<tr><th scope=row>9</th><td>7.2</td><td>50.2</td></tr>\n",
       "\t<tr><th scope=row>10</th><td>7.5</td><td>50.7</td></tr>\n",
       "</tbody>\n",
       "</table>\n"
      ],
      "text/latex": [
       "\\begin{tabular}{r|ll}\n",
       "  & distance & time_taken\\\\\n",
       "\\hline\n",
       "\t1 & 4 & 20.5\\\\\n",
       "\t2 & 5.2 & 28\\\\\n",
       "\t3 & 6 & 40.2\\\\\n",
       "\t4 & 5.2 & 24.1\\\\\n",
       "\t5 & 5 & 26\\\\\n",
       "\t6 & 6 & 42\\\\\n",
       "\t7 & 6.2 & 43.2\\\\\n",
       "\t8 & 6 & 40.1\\\\\n",
       "\t9 & 7.2 & 50.2\\\\\n",
       "\t10 & 7.5 & 50.7\\\\\n",
       "\\end{tabular}\n"
      ],
      "text/plain": [
       "   distance time_taken\n",
       "1       4.0       20.5\n",
       "2       5.2       28.0\n",
       "3       6.0       40.2\n",
       "4       5.2       24.1\n",
       "5       5.0       26.0\n",
       "6       6.0       42.0\n",
       "7       6.2       43.2\n",
       "8       6.0       40.1\n",
       "9       7.2       50.2\n",
       "10      7.5       50.7"
      ]
     },
     "execution_count": 91,
     "metadata": {},
     "output_type": "execute_result"
    }
   ],
   "source": [
    "# Answer here\n",
    "running_df[,1:2]"
   ]
  },
  {
   "cell_type": "markdown",
   "metadata": {},
   "source": [
    "   - Select all columns for rows 5-9"
   ]
  },
  {
   "cell_type": "code",
   "execution_count": 92,
   "metadata": {
    "collapsed": false
   },
   "outputs": [
    {
     "data": {
      "text/html": [
       "<table>\n",
       "<thead><tr><th></th><th scope=col>distance</th><th scope=col>time_taken</th><th scope=col>run_type</th><th scope=col>workout_after</th></tr></thead>\n",
       "<tbody>\n",
       "\t<tr><th scope=row>5</th><td>5</td><td>26</td><td>S</td><td>TRUE</td></tr>\n",
       "\t<tr><th scope=row>6</th><td>6</td><td>42</td><td>E</td><td>TRUE</td></tr>\n",
       "\t<tr><th scope=row>7</th><td>6.2</td><td>43.2</td><td>E</td><td>FALSE</td></tr>\n",
       "\t<tr><th scope=row>8</th><td>6</td><td>40.1</td><td>E</td><td>FALSE</td></tr>\n",
       "\t<tr><th scope=row>9</th><td>7.2</td><td>50.2</td><td>E</td><td>FALSE</td></tr>\n",
       "</tbody>\n",
       "</table>\n"
      ],
      "text/latex": [
       "\\begin{tabular}{r|llll}\n",
       "  & distance & time_taken & run_type & workout_after\\\\\n",
       "\\hline\n",
       "\t5 & 5 & 26 & S & TRUE\\\\\n",
       "\t6 & 6 & 42 & E & TRUE\\\\\n",
       "\t7 & 6.2 & 43.2 & E & FALSE\\\\\n",
       "\t8 & 6 & 40.1 & E & FALSE\\\\\n",
       "\t9 & 7.2 & 50.2 & E & FALSE\\\\\n",
       "\\end{tabular}\n"
      ],
      "text/plain": [
       "  distance time_taken run_type workout_after\n",
       "5      5.0       26.0        S          TRUE\n",
       "6      6.0       42.0        E          TRUE\n",
       "7      6.2       43.2        E         FALSE\n",
       "8      6.0       40.1        E         FALSE\n",
       "9      7.2       50.2        E         FALSE"
      ]
     },
     "execution_count": 92,
     "metadata": {},
     "output_type": "execute_result"
    }
   ],
   "source": [
    "# Answer here \n",
    "running_df[5:9,]"
   ]
  },
  {
   "cell_type": "markdown",
   "metadata": {},
   "source": [
    "---"
   ]
  },
  {
   "cell_type": "markdown",
   "metadata": {},
   "source": [
    "You can also use the name of the column to select instead of specifying the numbers"
   ]
  },
  {
   "cell_type": "code",
   "execution_count": 93,
   "metadata": {
    "collapsed": false
   },
   "outputs": [
    {
     "data": {
      "text/html": [
       "<ol class=list-inline>\n",
       "\t<li>5</li>\n",
       "\t<li>6</li>\n",
       "\t<li>6.2</li>\n",
       "\t<li>6</li>\n",
       "\t<li>7.2</li>\n",
       "</ol>\n"
      ],
      "text/latex": [
       "\\begin{enumerate*}\n",
       "\\item 5\n",
       "\\item 6\n",
       "\\item 6.2\n",
       "\\item 6\n",
       "\\item 7.2\n",
       "\\end{enumerate*}\n"
      ],
      "text/markdown": [
       "1. 5\n",
       "2. 6\n",
       "3. 6.2\n",
       "4. 6\n",
       "5. 7.2\n",
       "\n",
       "\n"
      ],
      "text/plain": [
       "[1] 5.0 6.0 6.2 6.0 7.2"
      ]
     },
     "execution_count": 93,
     "metadata": {},
     "output_type": "execute_result"
    }
   ],
   "source": [
    "running_df[5:9, \"distance\"]"
   ]
  },
  {
   "cell_type": "markdown",
   "metadata": {},
   "source": [
    "There are times where we want to operate only on one column. We have, as of now, understood that there are 2 ways to do this: "
   ]
  },
  {
   "cell_type": "code",
   "execution_count": 94,
   "metadata": {
    "collapsed": false
   },
   "outputs": [
    {
     "data": {
      "text/html": [
       "<ol class=list-inline>\n",
       "\t<li>4</li>\n",
       "\t<li>5.2</li>\n",
       "\t<li>6</li>\n",
       "\t<li>5.2</li>\n",
       "\t<li>5</li>\n",
       "\t<li>6</li>\n",
       "\t<li>6.2</li>\n",
       "\t<li>6</li>\n",
       "\t<li>7.2</li>\n",
       "\t<li>7.5</li>\n",
       "</ol>\n"
      ],
      "text/latex": [
       "\\begin{enumerate*}\n",
       "\\item 4\n",
       "\\item 5.2\n",
       "\\item 6\n",
       "\\item 5.2\n",
       "\\item 5\n",
       "\\item 6\n",
       "\\item 6.2\n",
       "\\item 6\n",
       "\\item 7.2\n",
       "\\item 7.5\n",
       "\\end{enumerate*}\n"
      ],
      "text/markdown": [
       "1. 4\n",
       "2. 5.2\n",
       "3. 6\n",
       "4. 5.2\n",
       "5. 5\n",
       "6. 6\n",
       "7. 6.2\n",
       "8. 6\n",
       "9. 7.2\n",
       "10. 7.5\n",
       "\n",
       "\n"
      ],
      "text/plain": [
       " [1] 4.0 5.2 6.0 5.2 5.0 6.0 6.2 6.0 7.2 7.5"
      ]
     },
     "execution_count": 94,
     "metadata": {},
     "output_type": "execute_result"
    }
   ],
   "source": [
    "# Using the index of the distance column\n",
    "running_df[,1]"
   ]
  },
  {
   "cell_type": "code",
   "execution_count": 95,
   "metadata": {
    "collapsed": false
   },
   "outputs": [
    {
     "data": {
      "text/html": [
       "<ol class=list-inline>\n",
       "\t<li>4</li>\n",
       "\t<li>5.2</li>\n",
       "\t<li>6</li>\n",
       "\t<li>5.2</li>\n",
       "\t<li>5</li>\n",
       "\t<li>6</li>\n",
       "\t<li>6.2</li>\n",
       "\t<li>6</li>\n",
       "\t<li>7.2</li>\n",
       "\t<li>7.5</li>\n",
       "</ol>\n"
      ],
      "text/latex": [
       "\\begin{enumerate*}\n",
       "\\item 4\n",
       "\\item 5.2\n",
       "\\item 6\n",
       "\\item 5.2\n",
       "\\item 5\n",
       "\\item 6\n",
       "\\item 6.2\n",
       "\\item 6\n",
       "\\item 7.2\n",
       "\\item 7.5\n",
       "\\end{enumerate*}\n"
      ],
      "text/markdown": [
       "1. 4\n",
       "2. 5.2\n",
       "3. 6\n",
       "4. 5.2\n",
       "5. 5\n",
       "6. 6\n",
       "7. 6.2\n",
       "8. 6\n",
       "9. 7.2\n",
       "10. 7.5\n",
       "\n",
       "\n"
      ],
      "text/plain": [
       " [1] 4.0 5.2 6.0 5.2 5.0 6.0 6.2 6.0 7.2 7.5"
      ]
     },
     "execution_count": 95,
     "metadata": {},
     "output_type": "execute_result"
    }
   ],
   "source": [
    "# Using the column name\n",
    "running_df[, \"distance\"]"
   ]
  },
  {
   "cell_type": "markdown",
   "metadata": {},
   "source": [
    "There's also a 3rd way which you'll see used extensively through out R and that uses the `$` operator"
   ]
  },
  {
   "cell_type": "code",
   "execution_count": 96,
   "metadata": {
    "collapsed": false
   },
   "outputs": [
    {
     "data": {
      "text/html": [
       "<ol class=list-inline>\n",
       "\t<li>4</li>\n",
       "\t<li>5.2</li>\n",
       "\t<li>6</li>\n",
       "\t<li>5.2</li>\n",
       "\t<li>5</li>\n",
       "\t<li>6</li>\n",
       "\t<li>6.2</li>\n",
       "\t<li>6</li>\n",
       "\t<li>7.2</li>\n",
       "\t<li>7.5</li>\n",
       "</ol>\n"
      ],
      "text/latex": [
       "\\begin{enumerate*}\n",
       "\\item 4\n",
       "\\item 5.2\n",
       "\\item 6\n",
       "\\item 5.2\n",
       "\\item 5\n",
       "\\item 6\n",
       "\\item 6.2\n",
       "\\item 6\n",
       "\\item 7.2\n",
       "\\item 7.5\n",
       "\\end{enumerate*}\n"
      ],
      "text/markdown": [
       "1. 4\n",
       "2. 5.2\n",
       "3. 6\n",
       "4. 5.2\n",
       "5. 5\n",
       "6. 6\n",
       "7. 6.2\n",
       "8. 6\n",
       "9. 7.2\n",
       "10. 7.5\n",
       "\n",
       "\n"
      ],
      "text/plain": [
       " [1] 4.0 5.2 6.0 5.2 5.0 6.0 6.2 6.0 7.2 7.5"
      ]
     },
     "execution_count": 96,
     "metadata": {},
     "output_type": "execute_result"
    }
   ],
   "source": [
    "running_df$distance"
   ]
  },
  {
   "cell_type": "markdown",
   "metadata": {},
   "source": [
    "**Note:** Do note that when you are working on an **individual** column, the data structure is a `vector` and not a `data.frame`\n"
   ]
  },
  {
   "cell_type": "markdown",
   "metadata": {},
   "source": [
    "### Working with subsets\n",
    "\n",
    "Let us say that we want to select the first 4 rows of the data frame, we can do so my passing a vector like so"
   ]
  },
  {
   "cell_type": "code",
   "execution_count": 97,
   "metadata": {
    "collapsed": false
   },
   "outputs": [
    {
     "data": {
      "text/html": [
       "<table>\n",
       "<thead><tr><th></th><th scope=col>distance</th><th scope=col>time_taken</th><th scope=col>run_type</th><th scope=col>workout_after</th></tr></thead>\n",
       "<tbody>\n",
       "\t<tr><th scope=row>1</th><td>4</td><td>20.5</td><td>S</td><td>TRUE</td></tr>\n",
       "\t<tr><th scope=row>2</th><td>5.2</td><td>28</td><td>S</td><td>FALSE</td></tr>\n",
       "\t<tr><th scope=row>3</th><td>6</td><td>40.2</td><td>E</td><td>FALSE</td></tr>\n",
       "\t<tr><th scope=row>4</th><td>5.2</td><td>24.1</td><td>S</td><td>FALSE</td></tr>\n",
       "</tbody>\n",
       "</table>\n"
      ],
      "text/latex": [
       "\\begin{tabular}{r|llll}\n",
       "  & distance & time_taken & run_type & workout_after\\\\\n",
       "\\hline\n",
       "\t1 & 4 & 20.5 & S & TRUE\\\\\n",
       "\t2 & 5.2 & 28 & S & FALSE\\\\\n",
       "\t3 & 6 & 40.2 & E & FALSE\\\\\n",
       "\t4 & 5.2 & 24.1 & S & FALSE\\\\\n",
       "\\end{tabular}\n"
      ],
      "text/plain": [
       "  distance time_taken run_type workout_after\n",
       "1      4.0       20.5        S          TRUE\n",
       "2      5.2       28.0        S         FALSE\n",
       "3      6.0       40.2        E         FALSE\n",
       "4      5.2       24.1        S         FALSE"
      ]
     },
     "execution_count": 97,
     "metadata": {},
     "output_type": "execute_result"
    }
   ],
   "source": [
    "running_df[c(TRUE,TRUE,TRUE,TRUE,FALSE,FALSE,FALSE,FALSE,FALSE,FALSE),]"
   ]
  },
  {
   "cell_type": "markdown",
   "metadata": {},
   "source": [
    "But this is tedious so R gives us a `subset` function to do the same thing in a more readable fashion"
   ]
  },
  {
   "cell_type": "code",
   "execution_count": 99,
   "metadata": {
    "collapsed": false
   },
   "outputs": [
    {
     "data": {
      "text/html": [
       "<ol class=list-inline>\n",
       "\t<li>6</li>\n",
       "\t<li>6</li>\n",
       "\t<li>6.2</li>\n",
       "\t<li>6</li>\n",
       "\t<li>7.2</li>\n",
       "\t<li>7.5</li>\n",
       "</ol>\n"
      ],
      "text/latex": [
       "\\begin{enumerate*}\n",
       "\\item 6\n",
       "\\item 6\n",
       "\\item 6.2\n",
       "\\item 6\n",
       "\\item 7.2\n",
       "\\item 7.5\n",
       "\\end{enumerate*}\n"
      ],
      "text/markdown": [
       "1. 6\n",
       "2. 6\n",
       "3. 6.2\n",
       "4. 6\n",
       "5. 7.2\n",
       "6. 7.5\n",
       "\n",
       "\n"
      ],
      "text/plain": [
       "[1] 6.0 6.0 6.2 6.0 7.2 7.5"
      ]
     },
     "execution_count": 99,
     "metadata": {},
     "output_type": "execute_result"
    }
   ],
   "source": [
    "# Lets pick out all the days where we did endurance runs.\n",
    "(subset(running_df, subset = (run_type == \"E\")))$distance"
   ]
  },
  {
   "cell_type": "markdown",
   "metadata": {},
   "source": [
    "---\n",
    "\n",
    "### [ Exercise ]\n",
    "\n",
    "Pick out all those rows where we did endurance runs **and** worked out after the run. Use the subset function"
   ]
  },
  {
   "cell_type": "code",
   "execution_count": 100,
   "metadata": {
    "collapsed": false
   },
   "outputs": [
    {
     "data": {
      "text/html": [
       "<table>\n",
       "<thead><tr><th></th><th scope=col>distance</th><th scope=col>time_taken</th><th scope=col>run_type</th><th scope=col>workout_after</th></tr></thead>\n",
       "<tbody>\n",
       "\t<tr><th scope=row>6</th><td>6</td><td>42</td><td>E</td><td>TRUE</td></tr>\n",
       "</tbody>\n",
       "</table>\n"
      ],
      "text/latex": [
       "\\begin{tabular}{r|llll}\n",
       "  & distance & time_taken & run_type & workout_after\\\\\n",
       "\\hline\n",
       "\t6 & 6 & 42 & E & TRUE\\\\\n",
       "\\end{tabular}\n"
      ],
      "text/plain": [
       "  distance time_taken run_type workout_after\n",
       "6        6         42        E          TRUE"
      ]
     },
     "execution_count": 100,
     "metadata": {},
     "output_type": "execute_result"
    }
   ],
   "source": [
    "# Answer here\n",
    "subset(running_df, subset = (run_type == \"E\" & workout_after == TRUE))"
   ]
  },
  {
   "cell_type": "markdown",
   "metadata": {},
   "source": [
    "---"
   ]
  },
  {
   "cell_type": "markdown",
   "metadata": {},
   "source": [
    "### Ordering"
   ]
  },
  {
   "cell_type": "markdown",
   "metadata": {},
   "source": [
    "Ordering helps us to understand our data better and helps with comparison.\n",
    "\n",
    "The `order` function helps us to do that in R. It is quite smart as well. Consider a vector"
   ]
  },
  {
   "cell_type": "code",
   "execution_count": null,
   "metadata": {
    "collapsed": false
   },
   "outputs": [],
   "source": [
    "some_alphabets <- c(\"h\", \"a\", \"q\", \"z\", \"n\", \"r\")\n",
    "some_alphabets"
   ]
  },
  {
   "cell_type": "code",
   "execution_count": null,
   "metadata": {
    "collapsed": false
   },
   "outputs": [],
   "source": [
    "# Lets call order on them and see what happens\n",
    "order(some_alphabets)"
   ]
  },
  {
   "cell_type": "markdown",
   "metadata": {},
   "source": [
    "It gives us a vector. An ordered vector. Now let us select the original vector using this one\n"
   ]
  },
  {
   "cell_type": "code",
   "execution_count": null,
   "metadata": {
    "collapsed": false
   },
   "outputs": [],
   "source": [
    "o <- order(some_alphabets)\n",
    "some_alphabets[o]"
   ]
  },
  {
   "cell_type": "markdown",
   "metadata": {},
   "source": [
    "We can also sort it in the opposite order using the `decreasing=TRUE` argument to `order`"
   ]
  },
  {
   "cell_type": "markdown",
   "metadata": {},
   "source": [
    "---\n",
    "\n",
    "### [ Exercise ]\n",
    "\n",
    "- Sort the `some_alphabets` vector in the descending order"
   ]
  },
  {
   "cell_type": "code",
   "execution_count": null,
   "metadata": {
    "collapsed": true
   },
   "outputs": [],
   "source": [
    "# Answer here"
   ]
  },
  {
   "cell_type": "markdown",
   "metadata": {},
   "source": [
    "- We can also get use `order` on a column in a data frame. Order the `distance` column within our `running_df` data frame"
   ]
  },
  {
   "cell_type": "code",
   "execution_count": null,
   "metadata": {
    "collapsed": true
   },
   "outputs": [],
   "source": [
    "# Answer here"
   ]
  },
  {
   "cell_type": "markdown",
   "metadata": {},
   "source": [
    "- From the existing `running_df` data frame, create a new data frame (`running_df_ordered`) that is ordered by the `distance` column"
   ]
  },
  {
   "cell_type": "code",
   "execution_count": null,
   "metadata": {
    "collapsed": true
   },
   "outputs": [],
   "source": [
    "# Answer here"
   ]
  },
  {
   "cell_type": "markdown",
   "metadata": {},
   "source": [
    "---"
   ]
  }
 ],
 "metadata": {
  "kernelspec": {
   "display_name": "R",
   "language": "R",
   "name": "ir"
  },
  "language_info": {
   "codemirror_mode": "r",
   "file_extension": ".r",
   "mimetype": "text/x-r-source",
   "name": "R",
   "pygments_lexer": "r",
   "version": "3.2.4"
  }
 },
 "nbformat": 4,
 "nbformat_minor": 0
}
